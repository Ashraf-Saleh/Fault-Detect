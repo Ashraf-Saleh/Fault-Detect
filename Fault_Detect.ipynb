{
  "nbformat": 4,
  "nbformat_minor": 0,
  "metadata": {
    "colab": {
      "name": "Fault_Detect.ipynb",
      "provenance": [],
      "collapsed_sections": [],
      "machine_shape": "hm",
      "include_colab_link": true
    },
    "kernelspec": {
      "name": "python3",
      "display_name": "Python 3"
    },
    "accelerator": "GPU"
  },
  "cells": [
    {
      "cell_type": "markdown",
      "metadata": {
        "id": "view-in-github",
        "colab_type": "text"
      },
      "source": [
        "<a href=\"https://colab.research.google.com/github/Ashraf-Saleh/Fault-Detect/blob/Trial-branch/Fault_Detect.ipynb\" target=\"_parent\"><img src=\"https://colab.research.google.com/assets/colab-badge.svg\" alt=\"Open In Colab\"/></a>"
      ]
    },
    {
      "cell_type": "markdown",
      "metadata": {
        "id": "4cbgwZWWfWpp"
      },
      "source": [
        "# New Section"
      ]
    },
    {
      "cell_type": "code",
      "metadata": {
        "id": "tAb77yZ9fzMG"
      },
      "source": [
        ""
      ],
      "execution_count": null,
      "outputs": []
    },
    {
      "cell_type": "code",
      "metadata": {
        "id": "-9PFzkDY9Spa"
      },
      "source": [
        "import numpy\n",
        "import glob\n",
        "import matplotlib.pyplot as plt\n",
        "import matplotlib.image as mpimg\n",
        "import keras \n",
        "from keras import layers\n",
        "from keras.models import Sequential\n",
        "from keras.layers.convolutional import Conv1D, MaxPooling1D\n",
        "from keras.layers.convolutional import Conv2D, MaxPooling2D, AveragePooling2D\n",
        "from keras.optimizers import SGD\n",
        "from keras.layers import Dense, Flatten, Dropout, Activation, BatchNormalization,Concatenate, merge\n",
        "from keras.utils.np_utils import to_categorical\n",
        "from keras.models import model_from_json\n",
        "from keras.utils import plot_model\n",
        "import tensorflow as tf\n",
        "import random, os\n",
        "import multiprocessing as mp\n",
        "from queue import Empty\n",
        "import time"
      ],
      "execution_count": 3,
      "outputs": []
    },
    {
      "cell_type": "code",
      "metadata": {
        "id": "O4l8tGQJ9v91",
        "outputId": "a34442d5-8467-492c-ad8c-d7f8e8650ef5",
        "colab": {
          "base_uri": "https://localhost:8080/",
          "height": 34
        }
      },
      "source": [
        "from google.colab import drive\n",
        "drive.mount('/content/drive')"
      ],
      "execution_count": 4,
      "outputs": [
        {
          "output_type": "stream",
          "text": [
            "Mounted at /content/drive\n"
          ],
          "name": "stdout"
        }
      ]
    },
    {
      "cell_type": "code",
      "metadata": {
        "id": "lpO0tJE1908T"
      },
      "source": [
        "Data_X = numpy.load(\"/content/drive/My Drive/Colab_Data/Fault_Detect/Train_X_Sample.npy\",None,allow_pickle=True)\n",
        "Data_Y = numpy.load(\"/content/drive/My Drive/Colab_Data/Fault_Detect/Train_Y_Sample.npy\",None,allow_pickle=True)"
      ],
      "execution_count": 5,
      "outputs": []
    },
    {
      "cell_type": "code",
      "metadata": {
        "id": "RyuU4RWd95V2",
        "outputId": "44cfe8ea-9f85-42cd-cd8a-8aa84d0d12a8",
        "colab": {
          "base_uri": "https://localhost:8080/",
          "height": 119
        }
      },
      "source": [
        "#Train_X = Data_X\n",
        "#Train_Y = Data_Y\n",
        "Train_X = Data_X[:int(len(Data_X)*0.4)]\n",
        "Train_Y = Data_Y[:int(len(Data_Y)*0.4)]\n",
        "Vald_X = Data_X[int(len(Data_X)*0.4):int(len(Data_X)*0.7)]\n",
        "Vald_Y = Data_Y[int(len(Data_Y)*0.4):int(len(Data_Y)*0.7)]\n",
        "Test_X = Data_X[int(len(Data_X)*0.7):]\n",
        "Test_Y = Data_Y[int(len(Data_Y)*0.7):]\n",
        " \n",
        "print(len(Data_X))\n",
        "print(len(Train_X))\n",
        "print(len(Vald_X))\n",
        "print(len(Test_X))\n",
        " \n",
        "print(Data_X.shape)\n",
        "print(Data_Y.shape)"
      ],
      "execution_count": 6,
      "outputs": [
        {
          "output_type": "stream",
          "text": [
            "22950\n",
            "9180\n",
            "6884\n",
            "6886\n",
            "(22950, 5, 5000, 1)\n",
            "(22950, 9)\n"
          ],
          "name": "stdout"
        }
      ]
    },
    {
      "cell_type": "code",
      "metadata": {
        "id": "bfxkga2O-DYs",
        "outputId": "8b31389e-7c0b-4a80-850d-695fa51d2e9f",
        "colab": {
          "base_uri": "https://localhost:8080/",
          "height": 728
        }
      },
      "source": [
        "inputs = keras.Input(shape = (Train_X.shape[1], Train_X.shape[2], Train_X.shape[3]), name=\"data\")\n",
        " \n",
        "x = layers.Conv2D(filters = 100, kernel_size = (1, 20),strides=(1, 2), activation = \"relu\") (inputs)\n",
        "#x = layers.Conv2D(filters = 105, kernel_size = (1,50),padding = 'valid', activation='relu') (x)\n",
        "#x = layers.Conv2D(filters = 21, kernel_size = (3, 100), activation='relu') (x)\n",
        "#block_1_output = layers.MaxPooling2D(pool_size = (1,4)) (x)\n",
        " \n",
        "#x = layers.Conv2D(filters = 11, kernel_size = (2, 200), activation=\"relu\", padding=\"same\")(block_1_output)\n",
        "#x = layers.Conv2D(filters = 21, kernel_size = (2, 20), activation=\"relu\", padding=\"same\")(x)\n",
        "#block_2_output = layers.add([x, block_1_output])\n",
        " \n",
        "\n",
        "#x = layers.Conv2D(filters = 21,kernel_size= (1, 50), activation=\"relu\", padding=\"same\")(block_2_output)\n",
        "#x = layers.Conv2D(filters = 21,kernel_size= (1, 70), activation=\"relu\", padding=\"same\")(x)\n",
        "#block_3_output = layers.add([x, block_2_output])\n",
        "\n",
        "\n",
        "#x = layers.Conv2D(filters = 11, kernel_size = (2, 20), activation=\"relu\", padding=\"same\")(block_3_output)\n",
        "#x = layers.Conv2D(filters = 21, kernel_size = (2, 20), activation=\"relu\", padding=\"same\")(x)\n",
        "\n",
        "#block_6_output = layers.add([x, block_3_output])\n",
        " \n",
        "#x = layers.Conv2D(filters = 21,kernel_size= (1, 20), activation=\"relu\", padding=\"same\")(block_6_output)\n",
        "#x = layers.Conv2D(filters = 21,kernel_size= (1, 20), activation=\"relu\", padding=\"same\")(x)\n",
        "#block_7_output = layers.add([x, block_6_output])\n",
        "\n",
        "#x = layers.MaxPooling2D(pool_size = (1,4)) (block_7_output) \n",
        "x = layers.MaxPooling2D(pool_size = (1,4)) (x)\n",
        "x = layers.Conv2D(filters = 21,kernel_size= (1, 20), activation=\"relu\")(x)\n",
        "x = layers.MaxPooling2D(pool_size = (1,48))(x)\n",
        "x = layers.Flatten()(x)\n",
        "x = layers.Dense(64, activation=\"relu\")(x)\n",
        "#block_4_output = layers.Dense(16, activation=\"relu\")(x)\n",
        " \n",
        "#x = layers.Dense(16, activation=\"relu\")(block_4_output)\n",
        "#x = layers.Dense(16, activation=\"relu\")(x)\n",
        "x = layers.Dense(16, activation=\"relu\")(x)\n",
        "#block_5_output = layers.add([x, block_4_output])\n",
        " \n",
        "#x = block_5_output\n",
        "#x = layers.Dropout(0.5)(x)\n",
        "outputs = layers.Dense(Train_Y.shape[1], activation='softmax')(x)\n",
        " \n",
        " \n",
        "model = keras.Model(inputs, outputs, name=\"model\")\n",
        " \n",
        "model.compile(optimizer='adam', loss='CategoricalCrossentropy', metrics=['accuracy'])\n",
        " \n",
        "model.summary()\n",
        "plot_model(model, to_file='/content/drive/My Drive/Colab_Data/Fault_Detect/model.png',show_shapes=True)\n",
        "plt.imshow(mpimg.imread('/content/drive/My Drive/Colab_Data/Fault_Detect/model.png'))"
      ],
      "execution_count": 10,
      "outputs": [
        {
          "output_type": "stream",
          "text": [
            "Model: \"model\"\n",
            "_________________________________________________________________\n",
            "Layer (type)                 Output Shape              Param #   \n",
            "=================================================================\n",
            "data (InputLayer)            [(None, 5, 5000, 1)]      0         \n",
            "_________________________________________________________________\n",
            "conv2d_5 (Conv2D)            (None, 5, 2491, 100)      2100      \n",
            "_________________________________________________________________\n",
            "max_pooling2d_5 (MaxPooling2 (None, 5, 622, 100)       0         \n",
            "_________________________________________________________________\n",
            "conv2d_6 (Conv2D)            (None, 5, 603, 21)        42021     \n",
            "_________________________________________________________________\n",
            "max_pooling2d_6 (MaxPooling2 (None, 5, 12, 21)         0         \n",
            "_________________________________________________________________\n",
            "flatten_2 (Flatten)          (None, 1260)              0         \n",
            "_________________________________________________________________\n",
            "dense_9 (Dense)              (None, 64)                80704     \n",
            "_________________________________________________________________\n",
            "dense_10 (Dense)             (None, 16)                1040      \n",
            "_________________________________________________________________\n",
            "dense_11 (Dense)             (None, 9)                 153       \n",
            "=================================================================\n",
            "Total params: 126,018\n",
            "Trainable params: 126,018\n",
            "Non-trainable params: 0\n",
            "_________________________________________________________________\n"
          ],
          "name": "stdout"
        },
        {
          "output_type": "execute_result",
          "data": {
            "text/plain": [
              "<matplotlib.image.AxesImage at 0x7fcf73b9d080>"
            ]
          },
          "metadata": {
            "tags": []
          },
          "execution_count": 10
        },
        {
          "output_type": "display_data",
          "data": {
            "image/png": "[encoded data removed]",
            "text/plain": [
              "<Figure size 432x288 with 1 Axes>"
            ]
          },
          "metadata": {
            "tags": [],
            "needs_background": "light"
          }
        }
      ]
    },
    {
      "cell_type": "code",
      "metadata": {
        "id": "J2ZHnfqh-E6C",
        "outputId": "df8b4912-1514-4b21-b0d2-52be9cef80af",
        "colab": {
          "base_uri": "https://localhost:8080/",
          "height": 1000
        }
      },
      "source": [
        "history = model.fit(Train_X, Train_Y, epochs=200,batch_size = 200, verbose=2, validation_data=(Vald_X,Vald_Y))"
      ],
      "execution_count": 11,
      "outputs": [
        {
          "output_type": "stream",
          "text": [
            "Epoch 1/200\n",
            "46/46 - 5s - loss: 0.9423 - accuracy: 0.5794 - val_loss: 0.5788 - val_accuracy: 0.6533\n",
            "Epoch 2/200\n",
            "46/46 - 5s - loss: 0.5026 - accuracy: 0.7179 - val_loss: 0.4823 - val_accuracy: 0.7212\n",
            "Epoch 3/200\n",
            "46/46 - 5s - loss: 0.4481 - accuracy: 0.7526 - val_loss: 0.4391 - val_accuracy: 0.7821\n",
            "Epoch 4/200\n",
            "46/46 - 5s - loss: 0.4085 - accuracy: 0.7836 - val_loss: 0.4352 - val_accuracy: 0.7410\n",
            "Epoch 5/200\n",
            "46/46 - 5s - loss: 0.3762 - accuracy: 0.7991 - val_loss: 0.3797 - val_accuracy: 0.8144\n",
            "Epoch 6/200\n",
            "46/46 - 5s - loss: 0.3491 - accuracy: 0.8119 - val_loss: 0.3375 - val_accuracy: 0.8206\n",
            "Epoch 7/200\n",
            "46/46 - 5s - loss: 0.3265 - accuracy: 0.8256 - val_loss: 0.3410 - val_accuracy: 0.8177\n",
            "Epoch 8/200\n",
            "46/46 - 5s - loss: 0.3015 - accuracy: 0.8413 - val_loss: 0.2796 - val_accuracy: 0.8402\n",
            "Epoch 9/200\n",
            "46/46 - 5s - loss: 0.2838 - accuracy: 0.8545 - val_loss: 0.2777 - val_accuracy: 0.8454\n",
            "Epoch 10/200\n",
            "46/46 - 5s - loss: 0.2730 - accuracy: 0.8637 - val_loss: 0.2498 - val_accuracy: 0.8706\n",
            "Epoch 11/200\n",
            "46/46 - 5s - loss: 0.2602 - accuracy: 0.8690 - val_loss: 0.2277 - val_accuracy: 0.8854\n",
            "Epoch 12/200\n",
            "46/46 - 5s - loss: 0.2262 - accuracy: 0.8852 - val_loss: 0.2781 - val_accuracy: 0.8550\n",
            "Epoch 13/200\n",
            "46/46 - 5s - loss: 0.2474 - accuracy: 0.8792 - val_loss: 0.1997 - val_accuracy: 0.9095\n",
            "Epoch 14/200\n",
            "46/46 - 5s - loss: 0.2148 - accuracy: 0.8975 - val_loss: 0.1967 - val_accuracy: 0.9001\n",
            "Epoch 15/200\n",
            "46/46 - 5s - loss: 0.2032 - accuracy: 0.9066 - val_loss: 0.2347 - val_accuracy: 0.8836\n",
            "Epoch 16/200\n",
            "46/46 - 5s - loss: 0.1962 - accuracy: 0.9042 - val_loss: 0.1919 - val_accuracy: 0.9003\n",
            "Epoch 17/200\n",
            "46/46 - 5s - loss: 0.1978 - accuracy: 0.9045 - val_loss: 0.1888 - val_accuracy: 0.9066\n",
            "Epoch 18/200\n",
            "46/46 - 5s - loss: 0.2033 - accuracy: 0.9037 - val_loss: 0.2208 - val_accuracy: 0.8876\n",
            "Epoch 19/200\n",
            "46/46 - 5s - loss: 0.1913 - accuracy: 0.9042 - val_loss: 0.2117 - val_accuracy: 0.8954\n",
            "Epoch 20/200\n",
            "46/46 - 5s - loss: 0.1711 - accuracy: 0.9137 - val_loss: 0.1789 - val_accuracy: 0.9163\n",
            "Epoch 21/200\n",
            "46/46 - 5s - loss: 0.1661 - accuracy: 0.9134 - val_loss: 0.1793 - val_accuracy: 0.9034\n",
            "Epoch 22/200\n",
            "46/46 - 5s - loss: 0.1668 - accuracy: 0.9145 - val_loss: 0.1555 - val_accuracy: 0.9179\n",
            "Epoch 23/200\n",
            "46/46 - 5s - loss: 0.1611 - accuracy: 0.9197 - val_loss: 0.1567 - val_accuracy: 0.9197\n",
            "Epoch 24/200\n",
            "46/46 - 5s - loss: 0.1702 - accuracy: 0.9159 - val_loss: 0.1625 - val_accuracy: 0.9092\n",
            "Epoch 25/200\n",
            "46/46 - 5s - loss: 0.1660 - accuracy: 0.9151 - val_loss: 0.1768 - val_accuracy: 0.8983\n",
            "Epoch 26/200\n",
            "46/46 - 5s - loss: 0.1586 - accuracy: 0.9161 - val_loss: 0.1569 - val_accuracy: 0.9185\n",
            "Epoch 27/200\n",
            "46/46 - 5s - loss: 0.1545 - accuracy: 0.9181 - val_loss: 0.1501 - val_accuracy: 0.9191\n",
            "Epoch 28/200\n",
            "46/46 - 5s - loss: 0.1428 - accuracy: 0.9263 - val_loss: 0.1483 - val_accuracy: 0.9253\n",
            "Epoch 29/200\n",
            "46/46 - 5s - loss: 0.1502 - accuracy: 0.9197 - val_loss: 0.2140 - val_accuracy: 0.9134\n",
            "Epoch 30/200\n",
            "46/46 - 5s - loss: 0.1673 - accuracy: 0.9130 - val_loss: 0.1464 - val_accuracy: 0.9246\n",
            "Epoch 31/200\n",
            "46/46 - 5s - loss: 0.1430 - accuracy: 0.9234 - val_loss: 0.1529 - val_accuracy: 0.9284\n",
            "Epoch 32/200\n",
            "46/46 - 5s - loss: 0.1469 - accuracy: 0.9212 - val_loss: 0.1329 - val_accuracy: 0.9303\n",
            "Epoch 33/200\n",
            "46/46 - 5s - loss: 0.1561 - accuracy: 0.9178 - val_loss: 0.1385 - val_accuracy: 0.9291\n",
            "Epoch 34/200\n",
            "46/46 - 5s - loss: 0.1442 - accuracy: 0.9222 - val_loss: 0.1373 - val_accuracy: 0.9213\n",
            "Epoch 35/200\n",
            "46/46 - 5s - loss: 0.1343 - accuracy: 0.9282 - val_loss: 0.1581 - val_accuracy: 0.9210\n",
            "Epoch 36/200\n",
            "46/46 - 5s - loss: 0.1330 - accuracy: 0.9268 - val_loss: 0.1357 - val_accuracy: 0.9332\n",
            "Epoch 37/200\n",
            "46/46 - 5s - loss: 0.1317 - accuracy: 0.9272 - val_loss: 0.1343 - val_accuracy: 0.9279\n",
            "Epoch 38/200\n",
            "46/46 - 5s - loss: 0.1415 - accuracy: 0.9282 - val_loss: 0.1417 - val_accuracy: 0.9230\n",
            "Epoch 39/200\n",
            "46/46 - 5s - loss: 0.1229 - accuracy: 0.9380 - val_loss: 0.1326 - val_accuracy: 0.9185\n",
            "Epoch 40/200\n",
            "46/46 - 5s - loss: 0.1296 - accuracy: 0.9277 - val_loss: 0.1258 - val_accuracy: 0.9330\n",
            "Epoch 41/200\n",
            "46/46 - 5s - loss: 0.1327 - accuracy: 0.9273 - val_loss: 0.1561 - val_accuracy: 0.9089\n",
            "Epoch 42/200\n",
            "46/46 - 5s - loss: 0.1305 - accuracy: 0.9301 - val_loss: 0.1236 - val_accuracy: 0.9381\n",
            "Epoch 43/200\n",
            "46/46 - 5s - loss: 0.1314 - accuracy: 0.9276 - val_loss: 0.1289 - val_accuracy: 0.9237\n",
            "Epoch 44/200\n",
            "46/46 - 5s - loss: 0.1251 - accuracy: 0.9326 - val_loss: 0.1367 - val_accuracy: 0.9268\n",
            "Epoch 45/200\n",
            "46/46 - 5s - loss: 0.1441 - accuracy: 0.9261 - val_loss: 0.1285 - val_accuracy: 0.9378\n",
            "Epoch 46/200\n",
            "46/46 - 5s - loss: 0.1288 - accuracy: 0.9303 - val_loss: 0.1461 - val_accuracy: 0.9194\n",
            "Epoch 47/200\n",
            "46/46 - 5s - loss: 0.1309 - accuracy: 0.9248 - val_loss: 0.1410 - val_accuracy: 0.9117\n",
            "Epoch 48/200\n",
            "46/46 - 5s - loss: 0.1302 - accuracy: 0.9269 - val_loss: 0.1291 - val_accuracy: 0.9355\n",
            "Epoch 49/200\n",
            "46/46 - 5s - loss: 0.1241 - accuracy: 0.9349 - val_loss: 0.1215 - val_accuracy: 0.9332\n",
            "Epoch 50/200\n",
            "46/46 - 5s - loss: 0.1182 - accuracy: 0.9376 - val_loss: 0.1710 - val_accuracy: 0.9216\n",
            "Epoch 51/200\n",
            "46/46 - 5s - loss: 0.1220 - accuracy: 0.9338 - val_loss: 0.1262 - val_accuracy: 0.9282\n",
            "Epoch 52/200\n",
            "46/46 - 5s - loss: 0.1349 - accuracy: 0.9282 - val_loss: 0.1348 - val_accuracy: 0.9249\n",
            "Epoch 53/200\n",
            "46/46 - 5s - loss: 0.1292 - accuracy: 0.9298 - val_loss: 0.1534 - val_accuracy: 0.9179\n",
            "Epoch 54/200\n",
            "46/46 - 5s - loss: 0.1194 - accuracy: 0.9364 - val_loss: 0.1136 - val_accuracy: 0.9417\n",
            "Epoch 55/200\n",
            "46/46 - 5s - loss: 0.1171 - accuracy: 0.9346 - val_loss: 0.1180 - val_accuracy: 0.9372\n",
            "Epoch 56/200\n",
            "46/46 - 5s - loss: 0.1161 - accuracy: 0.9378 - val_loss: 0.1188 - val_accuracy: 0.9313\n",
            "Epoch 57/200\n",
            "46/46 - 5s - loss: 0.1253 - accuracy: 0.9349 - val_loss: 0.1180 - val_accuracy: 0.9354\n",
            "Epoch 58/200\n",
            "46/46 - 5s - loss: 0.1115 - accuracy: 0.9345 - val_loss: 0.1087 - val_accuracy: 0.9500\n",
            "Epoch 59/200\n",
            "46/46 - 5s - loss: 0.1139 - accuracy: 0.9376 - val_loss: 0.1195 - val_accuracy: 0.9307\n",
            "Epoch 60/200\n",
            "46/46 - 5s - loss: 0.1163 - accuracy: 0.9330 - val_loss: 0.1153 - val_accuracy: 0.9544\n",
            "Epoch 61/200\n",
            "46/46 - 5s - loss: 0.1247 - accuracy: 0.9290 - val_loss: 0.1459 - val_accuracy: 0.9124\n",
            "Epoch 62/200\n",
            "46/46 - 5s - loss: 0.1287 - accuracy: 0.9270 - val_loss: 0.1166 - val_accuracy: 0.9314\n",
            "Epoch 63/200\n",
            "46/46 - 5s - loss: 0.1129 - accuracy: 0.9416 - val_loss: 0.1211 - val_accuracy: 0.9423\n",
            "Epoch 64/200\n",
            "46/46 - 5s - loss: 0.1127 - accuracy: 0.9402 - val_loss: 0.1384 - val_accuracy: 0.9335\n",
            "Epoch 65/200\n",
            "46/46 - 5s - loss: 0.1279 - accuracy: 0.9296 - val_loss: 0.1132 - val_accuracy: 0.9384\n",
            "Epoch 66/200\n",
            "46/46 - 5s - loss: 0.1274 - accuracy: 0.9320 - val_loss: 0.1220 - val_accuracy: 0.9377\n",
            "Epoch 67/200\n",
            "46/46 - 5s - loss: 0.1154 - accuracy: 0.9364 - val_loss: 0.1135 - val_accuracy: 0.9355\n",
            "Epoch 68/200\n",
            "46/46 - 5s - loss: 0.1402 - accuracy: 0.9327 - val_loss: 0.1335 - val_accuracy: 0.9397\n",
            "Epoch 69/200\n",
            "46/46 - 5s - loss: 0.1205 - accuracy: 0.9387 - val_loss: 0.1316 - val_accuracy: 0.9272\n",
            "Epoch 70/200\n",
            "46/46 - 5s - loss: 0.1402 - accuracy: 0.9281 - val_loss: 0.1277 - val_accuracy: 0.9340\n",
            "Epoch 71/200\n",
            "46/46 - 5s - loss: 0.1227 - accuracy: 0.9324 - val_loss: 0.1211 - val_accuracy: 0.9293\n",
            "Epoch 72/200\n",
            "46/46 - 5s - loss: 0.1132 - accuracy: 0.9356 - val_loss: 0.1166 - val_accuracy: 0.9342\n",
            "Epoch 73/200\n",
            "46/46 - 5s - loss: 0.1100 - accuracy: 0.9370 - val_loss: 0.1187 - val_accuracy: 0.9250\n",
            "Epoch 74/200\n",
            "46/46 - 5s - loss: 0.1246 - accuracy: 0.9332 - val_loss: 0.1077 - val_accuracy: 0.9439\n",
            "Epoch 75/200\n",
            "46/46 - 5s - loss: 0.1131 - accuracy: 0.9413 - val_loss: 0.1090 - val_accuracy: 0.9522\n",
            "Epoch 76/200\n",
            "46/46 - 5s - loss: 0.1099 - accuracy: 0.9427 - val_loss: 0.1098 - val_accuracy: 0.9400\n",
            "Epoch 77/200\n",
            "46/46 - 5s - loss: 0.1108 - accuracy: 0.9385 - val_loss: 0.1202 - val_accuracy: 0.9291\n",
            "Epoch 78/200\n",
            "46/46 - 5s - loss: 0.1129 - accuracy: 0.9411 - val_loss: 0.1034 - val_accuracy: 0.9509\n",
            "Epoch 79/200\n",
            "46/46 - 5s - loss: 0.1093 - accuracy: 0.9417 - val_loss: 0.1109 - val_accuracy: 0.9451\n",
            "Epoch 80/200\n",
            "46/46 - 5s - loss: 0.1096 - accuracy: 0.9415 - val_loss: 0.1020 - val_accuracy: 0.9535\n",
            "Epoch 81/200\n",
            "46/46 - 5s - loss: 0.1079 - accuracy: 0.9405 - val_loss: 0.1193 - val_accuracy: 0.9211\n",
            "Epoch 82/200\n",
            "46/46 - 5s - loss: 0.1045 - accuracy: 0.9444 - val_loss: 0.1241 - val_accuracy: 0.9269\n",
            "Epoch 83/200\n",
            "46/46 - 5s - loss: 0.1057 - accuracy: 0.9400 - val_loss: 0.1130 - val_accuracy: 0.9394\n",
            "Epoch 84/200\n",
            "46/46 - 5s - loss: 0.1061 - accuracy: 0.9441 - val_loss: 0.1098 - val_accuracy: 0.9406\n",
            "Epoch 85/200\n",
            "46/46 - 5s - loss: 0.1045 - accuracy: 0.9437 - val_loss: 0.1000 - val_accuracy: 0.9509\n",
            "Epoch 86/200\n",
            "46/46 - 5s - loss: 0.1086 - accuracy: 0.9404 - val_loss: 0.1405 - val_accuracy: 0.9216\n",
            "Epoch 87/200\n",
            "46/46 - 5s - loss: 0.1162 - accuracy: 0.9353 - val_loss: 0.1126 - val_accuracy: 0.9404\n",
            "Epoch 88/200\n",
            "46/46 - 5s - loss: 0.1118 - accuracy: 0.9388 - val_loss: 0.1139 - val_accuracy: 0.9432\n",
            "Epoch 89/200\n",
            "46/46 - 5s - loss: 0.1071 - accuracy: 0.9436 - val_loss: 0.1117 - val_accuracy: 0.9413\n",
            "Epoch 90/200\n",
            "46/46 - 5s - loss: 0.1020 - accuracy: 0.9488 - val_loss: 0.1024 - val_accuracy: 0.9502\n",
            "Epoch 91/200\n",
            "46/46 - 5s - loss: 0.0978 - accuracy: 0.9486 - val_loss: 0.1020 - val_accuracy: 0.9454\n",
            "Epoch 92/200\n",
            "46/46 - 5s - loss: 0.0964 - accuracy: 0.9534 - val_loss: 0.1036 - val_accuracy: 0.9484\n",
            "Epoch 93/200\n",
            "46/46 - 5s - loss: 0.1116 - accuracy: 0.9434 - val_loss: 0.1003 - val_accuracy: 0.9438\n",
            "Epoch 94/200\n",
            "46/46 - 5s - loss: 0.0982 - accuracy: 0.9490 - val_loss: 0.1062 - val_accuracy: 0.9352\n",
            "Epoch 95/200\n",
            "46/46 - 5s - loss: 0.0963 - accuracy: 0.9486 - val_loss: 0.0930 - val_accuracy: 0.9531\n",
            "Epoch 96/200\n",
            "46/46 - 5s - loss: 0.1021 - accuracy: 0.9472 - val_loss: 0.0919 - val_accuracy: 0.9585\n",
            "Epoch 97/200\n",
            "46/46 - 5s - loss: 0.0928 - accuracy: 0.9548 - val_loss: 0.1087 - val_accuracy: 0.9422\n",
            "Epoch 98/200\n",
            "46/46 - 5s - loss: 0.1009 - accuracy: 0.9472 - val_loss: 0.1025 - val_accuracy: 0.9479\n",
            "Epoch 99/200\n",
            "46/46 - 5s - loss: 0.0973 - accuracy: 0.9499 - val_loss: 0.0958 - val_accuracy: 0.9461\n",
            "Epoch 100/200\n",
            "46/46 - 5s - loss: 0.0967 - accuracy: 0.9492 - val_loss: 0.0957 - val_accuracy: 0.9490\n",
            "Epoch 101/200\n",
            "46/46 - 5s - loss: 0.0958 - accuracy: 0.9503 - val_loss: 0.0992 - val_accuracy: 0.9404\n",
            "Epoch 102/200\n",
            "46/46 - 5s - loss: 0.0954 - accuracy: 0.9499 - val_loss: 0.0987 - val_accuracy: 0.9468\n",
            "Epoch 103/200\n",
            "46/46 - 5s - loss: 0.0988 - accuracy: 0.9483 - val_loss: 0.1051 - val_accuracy: 0.9339\n",
            "Epoch 104/200\n",
            "46/46 - 5s - loss: 0.1123 - accuracy: 0.9418 - val_loss: 0.1315 - val_accuracy: 0.9335\n",
            "Epoch 105/200\n",
            "46/46 - 5s - loss: 0.0952 - accuracy: 0.9491 - val_loss: 0.0987 - val_accuracy: 0.9510\n",
            "Epoch 106/200\n",
            "46/46 - 5s - loss: 0.0897 - accuracy: 0.9538 - val_loss: 0.0961 - val_accuracy: 0.9558\n",
            "Epoch 107/200\n",
            "46/46 - 5s - loss: 0.0922 - accuracy: 0.9533 - val_loss: 0.0972 - val_accuracy: 0.9455\n",
            "Epoch 108/200\n",
            "46/46 - 5s - loss: 0.0990 - accuracy: 0.9475 - val_loss: 0.0940 - val_accuracy: 0.9569\n",
            "Epoch 109/200\n",
            "46/46 - 5s - loss: 0.0890 - accuracy: 0.9553 - val_loss: 0.0839 - val_accuracy: 0.9598\n",
            "Epoch 110/200\n",
            "46/46 - 5s - loss: 0.0869 - accuracy: 0.9558 - val_loss: 0.0953 - val_accuracy: 0.9526\n",
            "Epoch 111/200\n",
            "46/46 - 5s - loss: 0.0855 - accuracy: 0.9566 - val_loss: 0.0836 - val_accuracy: 0.9615\n",
            "Epoch 112/200\n",
            "46/46 - 5s - loss: 0.0874 - accuracy: 0.9559 - val_loss: 0.1194 - val_accuracy: 0.9400\n",
            "Epoch 113/200\n",
            "46/46 - 5s - loss: 0.0913 - accuracy: 0.9533 - val_loss: 0.0919 - val_accuracy: 0.9494\n",
            "Epoch 114/200\n",
            "46/46 - 5s - loss: 0.0868 - accuracy: 0.9575 - val_loss: 0.0933 - val_accuracy: 0.9541\n",
            "Epoch 115/200\n",
            "46/46 - 5s - loss: 0.0845 - accuracy: 0.9570 - val_loss: 0.0933 - val_accuracy: 0.9540\n",
            "Epoch 116/200\n",
            "46/46 - 5s - loss: 0.0917 - accuracy: 0.9541 - val_loss: 0.1154 - val_accuracy: 0.9362\n",
            "Epoch 117/200\n",
            "46/46 - 5s - loss: 0.0875 - accuracy: 0.9563 - val_loss: 0.0908 - val_accuracy: 0.9561\n",
            "Epoch 118/200\n",
            "46/46 - 5s - loss: 0.0871 - accuracy: 0.9593 - val_loss: 0.0978 - val_accuracy: 0.9531\n",
            "Epoch 119/200\n",
            "46/46 - 5s - loss: 0.0880 - accuracy: 0.9559 - val_loss: 0.0988 - val_accuracy: 0.9493\n",
            "Epoch 120/200\n",
            "46/46 - 5s - loss: 0.0862 - accuracy: 0.9574 - val_loss: 0.0911 - val_accuracy: 0.9441\n",
            "Epoch 121/200\n",
            "46/46 - 5s - loss: 0.0896 - accuracy: 0.9539 - val_loss: 0.0930 - val_accuracy: 0.9560\n",
            "Epoch 122/200\n",
            "46/46 - 5s - loss: 0.0812 - accuracy: 0.9607 - val_loss: 0.0829 - val_accuracy: 0.9617\n",
            "Epoch 123/200\n",
            "46/46 - 5s - loss: 0.0854 - accuracy: 0.9586 - val_loss: 0.0904 - val_accuracy: 0.9592\n",
            "Epoch 124/200\n",
            "46/46 - 5s - loss: 0.0845 - accuracy: 0.9576 - val_loss: 0.0840 - val_accuracy: 0.9567\n",
            "Epoch 125/200\n",
            "46/46 - 5s - loss: 0.0829 - accuracy: 0.9557 - val_loss: 0.0867 - val_accuracy: 0.9566\n",
            "Epoch 126/200\n",
            "46/46 - 5s - loss: 0.0776 - accuracy: 0.9626 - val_loss: 0.0793 - val_accuracy: 0.9598\n",
            "Epoch 127/200\n",
            "46/46 - 5s - loss: 0.0774 - accuracy: 0.9592 - val_loss: 0.0849 - val_accuracy: 0.9561\n",
            "Epoch 128/200\n",
            "46/46 - 5s - loss: 0.0800 - accuracy: 0.9599 - val_loss: 0.0889 - val_accuracy: 0.9521\n",
            "Epoch 129/200\n",
            "46/46 - 5s - loss: 0.0849 - accuracy: 0.9583 - val_loss: 0.0902 - val_accuracy: 0.9574\n",
            "Epoch 130/200\n",
            "46/46 - 5s - loss: 0.0766 - accuracy: 0.9619 - val_loss: 0.0794 - val_accuracy: 0.9646\n",
            "Epoch 131/200\n",
            "46/46 - 5s - loss: 0.0856 - accuracy: 0.9576 - val_loss: 0.0922 - val_accuracy: 0.9544\n",
            "Epoch 132/200\n",
            "46/46 - 5s - loss: 0.0791 - accuracy: 0.9611 - val_loss: 0.0815 - val_accuracy: 0.9574\n",
            "Epoch 133/200\n",
            "46/46 - 5s - loss: 0.0791 - accuracy: 0.9603 - val_loss: 0.0840 - val_accuracy: 0.9612\n",
            "Epoch 134/200\n",
            "46/46 - 5s - loss: 0.0727 - accuracy: 0.9632 - val_loss: 0.0827 - val_accuracy: 0.9606\n",
            "Epoch 135/200\n",
            "46/46 - 5s - loss: 0.0708 - accuracy: 0.9661 - val_loss: 0.0913 - val_accuracy: 0.9547\n",
            "Epoch 136/200\n",
            "46/46 - 5s - loss: 0.0782 - accuracy: 0.9607 - val_loss: 0.0746 - val_accuracy: 0.9593\n",
            "Epoch 137/200\n",
            "46/46 - 5s - loss: 0.0766 - accuracy: 0.9601 - val_loss: 0.0832 - val_accuracy: 0.9615\n",
            "Epoch 138/200\n",
            "46/46 - 5s - loss: 0.0719 - accuracy: 0.9639 - val_loss: 0.0817 - val_accuracy: 0.9615\n",
            "Epoch 139/200\n",
            "46/46 - 5s - loss: 0.0731 - accuracy: 0.9629 - val_loss: 0.0756 - val_accuracy: 0.9614\n",
            "Epoch 140/200\n",
            "46/46 - 5s - loss: 0.0771 - accuracy: 0.9611 - val_loss: 0.0810 - val_accuracy: 0.9603\n",
            "Epoch 141/200\n",
            "46/46 - 5s - loss: 0.0763 - accuracy: 0.9601 - val_loss: 0.0874 - val_accuracy: 0.9571\n",
            "Epoch 142/200\n",
            "46/46 - 5s - loss: 0.0724 - accuracy: 0.9615 - val_loss: 0.0818 - val_accuracy: 0.9627\n",
            "Epoch 143/200\n",
            "46/46 - 5s - loss: 0.0758 - accuracy: 0.9629 - val_loss: 0.0802 - val_accuracy: 0.9625\n",
            "Epoch 144/200\n",
            "46/46 - 5s - loss: 0.0766 - accuracy: 0.9592 - val_loss: 0.0779 - val_accuracy: 0.9603\n",
            "Epoch 145/200\n",
            "46/46 - 5s - loss: 0.0714 - accuracy: 0.9630 - val_loss: 0.0805 - val_accuracy: 0.9609\n",
            "Epoch 146/200\n",
            "46/46 - 5s - loss: 0.0740 - accuracy: 0.9637 - val_loss: 0.1032 - val_accuracy: 0.9468\n",
            "Epoch 147/200\n",
            "46/46 - 5s - loss: 0.0703 - accuracy: 0.9648 - val_loss: 0.0721 - val_accuracy: 0.9617\n",
            "Epoch 148/200\n",
            "46/46 - 5s - loss: 0.0726 - accuracy: 0.9625 - val_loss: 0.0681 - val_accuracy: 0.9598\n",
            "Epoch 149/200\n",
            "46/46 - 5s - loss: 0.0672 - accuracy: 0.9669 - val_loss: 0.0926 - val_accuracy: 0.9480\n",
            "Epoch 150/200\n",
            "46/46 - 5s - loss: 0.0719 - accuracy: 0.9621 - val_loss: 0.0741 - val_accuracy: 0.9601\n",
            "Epoch 151/200\n",
            "46/46 - 5s - loss: 0.0672 - accuracy: 0.9654 - val_loss: 0.0818 - val_accuracy: 0.9622\n",
            "Epoch 152/200\n",
            "46/46 - 5s - loss: 0.0729 - accuracy: 0.9636 - val_loss: 0.0709 - val_accuracy: 0.9656\n",
            "Epoch 153/200\n",
            "46/46 - 5s - loss: 0.0696 - accuracy: 0.9645 - val_loss: 0.0759 - val_accuracy: 0.9583\n",
            "Epoch 154/200\n",
            "46/46 - 5s - loss: 0.0685 - accuracy: 0.9638 - val_loss: 0.0825 - val_accuracy: 0.9603\n",
            "Epoch 155/200\n",
            "46/46 - 5s - loss: 0.0665 - accuracy: 0.9668 - val_loss: 0.0712 - val_accuracy: 0.9609\n",
            "Epoch 156/200\n",
            "46/46 - 5s - loss: 0.0662 - accuracy: 0.9663 - val_loss: 0.0829 - val_accuracy: 0.9548\n",
            "Epoch 157/200\n",
            "46/46 - 5s - loss: 0.0661 - accuracy: 0.9666 - val_loss: 0.0735 - val_accuracy: 0.9603\n",
            "Epoch 158/200\n",
            "46/46 - 5s - loss: 0.0686 - accuracy: 0.9632 - val_loss: 0.0812 - val_accuracy: 0.9569\n",
            "Epoch 159/200\n",
            "46/46 - 5s - loss: 0.0676 - accuracy: 0.9650 - val_loss: 0.0711 - val_accuracy: 0.9628\n",
            "Epoch 160/200\n",
            "46/46 - 5s - loss: 0.0641 - accuracy: 0.9656 - val_loss: 0.0727 - val_accuracy: 0.9612\n",
            "Epoch 161/200\n",
            "46/46 - 5s - loss: 0.0721 - accuracy: 0.9646 - val_loss: 0.0707 - val_accuracy: 0.9628\n",
            "Epoch 162/200\n",
            "46/46 - 5s - loss: 0.0710 - accuracy: 0.9634 - val_loss: 0.0866 - val_accuracy: 0.9561\n",
            "Epoch 163/200\n",
            "46/46 - 5s - loss: 0.0685 - accuracy: 0.9660 - val_loss: 0.0784 - val_accuracy: 0.9619\n",
            "Epoch 164/200\n",
            "46/46 - 5s - loss: 0.0683 - accuracy: 0.9657 - val_loss: 0.0765 - val_accuracy: 0.9619\n",
            "Epoch 165/200\n",
            "46/46 - 5s - loss: 0.0668 - accuracy: 0.9670 - val_loss: 0.0739 - val_accuracy: 0.9587\n",
            "Epoch 166/200\n",
            "46/46 - 5s - loss: 0.0654 - accuracy: 0.9661 - val_loss: 0.0853 - val_accuracy: 0.9553\n",
            "Epoch 167/200\n",
            "46/46 - 5s - loss: 0.0664 - accuracy: 0.9654 - val_loss: 0.0742 - val_accuracy: 0.9625\n",
            "Epoch 168/200\n",
            "46/46 - 5s - loss: 0.0614 - accuracy: 0.9683 - val_loss: 0.0707 - val_accuracy: 0.9598\n",
            "Epoch 169/200\n",
            "46/46 - 5s - loss: 0.0647 - accuracy: 0.9686 - val_loss: 0.0804 - val_accuracy: 0.9573\n",
            "Epoch 170/200\n",
            "46/46 - 5s - loss: 0.0648 - accuracy: 0.9669 - val_loss: 0.0691 - val_accuracy: 0.9637\n",
            "Epoch 171/200\n",
            "46/46 - 5s - loss: 0.0599 - accuracy: 0.9687 - val_loss: 0.0709 - val_accuracy: 0.9648\n",
            "Epoch 172/200\n",
            "46/46 - 5s - loss: 0.0660 - accuracy: 0.9662 - val_loss: 0.0788 - val_accuracy: 0.9590\n",
            "Epoch 173/200\n",
            "46/46 - 5s - loss: 0.0613 - accuracy: 0.9687 - val_loss: 0.0719 - val_accuracy: 0.9574\n",
            "Epoch 174/200\n",
            "46/46 - 5s - loss: 0.0673 - accuracy: 0.9648 - val_loss: 0.0769 - val_accuracy: 0.9634\n",
            "Epoch 175/200\n",
            "46/46 - 5s - loss: 0.0617 - accuracy: 0.9688 - val_loss: 0.0793 - val_accuracy: 0.9615\n",
            "Epoch 176/200\n",
            "46/46 - 5s - loss: 0.0615 - accuracy: 0.9684 - val_loss: 0.0668 - val_accuracy: 0.9659\n",
            "Epoch 177/200\n",
            "46/46 - 5s - loss: 0.0627 - accuracy: 0.9669 - val_loss: 0.0689 - val_accuracy: 0.9644\n",
            "Epoch 178/200\n",
            "46/46 - 5s - loss: 0.0738 - accuracy: 0.9658 - val_loss: 0.1679 - val_accuracy: 0.9458\n",
            "Epoch 179/200\n",
            "46/46 - 5s - loss: 0.0965 - accuracy: 0.9545 - val_loss: 0.0826 - val_accuracy: 0.9579\n",
            "Epoch 180/200\n",
            "46/46 - 5s - loss: 0.0796 - accuracy: 0.9583 - val_loss: 0.0818 - val_accuracy: 0.9638\n",
            "Epoch 181/200\n",
            "46/46 - 5s - loss: 0.0739 - accuracy: 0.9610 - val_loss: 0.0815 - val_accuracy: 0.9550\n",
            "Epoch 182/200\n",
            "46/46 - 5s - loss: 0.0741 - accuracy: 0.9603 - val_loss: 0.0798 - val_accuracy: 0.9625\n",
            "Epoch 183/200\n",
            "46/46 - 5s - loss: 0.0730 - accuracy: 0.9611 - val_loss: 0.0831 - val_accuracy: 0.9537\n",
            "Epoch 184/200\n",
            "46/46 - 5s - loss: 0.0671 - accuracy: 0.9671 - val_loss: 0.0727 - val_accuracy: 0.9650\n",
            "Epoch 185/200\n",
            "46/46 - 5s - loss: 0.0719 - accuracy: 0.9624 - val_loss: 0.0847 - val_accuracy: 0.9624\n",
            "Epoch 186/200\n",
            "46/46 - 5s - loss: 0.0684 - accuracy: 0.9659 - val_loss: 0.0744 - val_accuracy: 0.9582\n",
            "Epoch 187/200\n",
            "46/46 - 5s - loss: 0.0653 - accuracy: 0.9639 - val_loss: 0.0907 - val_accuracy: 0.9563\n",
            "Epoch 188/200\n",
            "46/46 - 5s - loss: 0.0718 - accuracy: 0.9608 - val_loss: 0.0738 - val_accuracy: 0.9630\n",
            "Epoch 189/200\n",
            "46/46 - 5s - loss: 0.0699 - accuracy: 0.9650 - val_loss: 0.0809 - val_accuracy: 0.9567\n",
            "Epoch 190/200\n",
            "46/46 - 5s - loss: 0.0678 - accuracy: 0.9642 - val_loss: 0.0791 - val_accuracy: 0.9638\n",
            "Epoch 191/200\n",
            "46/46 - 5s - loss: 0.0650 - accuracy: 0.9682 - val_loss: 0.0733 - val_accuracy: 0.9624\n",
            "Epoch 192/200\n",
            "46/46 - 5s - loss: 0.0633 - accuracy: 0.9650 - val_loss: 0.0880 - val_accuracy: 0.9508\n",
            "Epoch 193/200\n",
            "46/46 - 5s - loss: 0.0691 - accuracy: 0.9645 - val_loss: 0.0721 - val_accuracy: 0.9637\n",
            "Epoch 194/200\n",
            "46/46 - 5s - loss: 0.0634 - accuracy: 0.9702 - val_loss: 0.0678 - val_accuracy: 0.9622\n",
            "Epoch 195/200\n",
            "46/46 - 5s - loss: 0.0618 - accuracy: 0.9692 - val_loss: 0.0737 - val_accuracy: 0.9663\n",
            "Epoch 196/200\n",
            "46/46 - 5s - loss: 0.0618 - accuracy: 0.9671 - val_loss: 0.0744 - val_accuracy: 0.9635\n",
            "Epoch 197/200\n",
            "46/46 - 5s - loss: 0.0609 - accuracy: 0.9688 - val_loss: 0.0767 - val_accuracy: 0.9664\n",
            "Epoch 198/200\n",
            "46/46 - 5s - loss: 0.0644 - accuracy: 0.9671 - val_loss: 0.0798 - val_accuracy: 0.9555\n",
            "Epoch 199/200\n",
            "46/46 - 5s - loss: 0.0677 - accuracy: 0.9650 - val_loss: 0.0821 - val_accuracy: 0.9596\n",
            "Epoch 200/200\n",
            "46/46 - 5s - loss: 0.0615 - accuracy: 0.9707 - val_loss: 0.0781 - val_accuracy: 0.9595\n"
          ],
          "name": "stdout"
        }
      ]
    },
    {
      "cell_type": "code",
      "metadata": {
        "id": "e0F_DkMZ-KVe",
        "outputId": "58417252-fdb3-4e37-9b81-5a2c9d244647",
        "colab": {
          "base_uri": "https://localhost:8080/",
          "height": 51
        }
      },
      "source": [
        "#Test_X,Test_Y = prepare_test_data()\n",
        "Test_Y_1 = Test_Y\n",
        "Test_Y = to_categorical(Test_Y)\n",
        "print(Test_X.shape)\n",
        "print(Test_Y.shape)"
      ],
      "execution_count": 12,
      "outputs": [
        {
          "output_type": "stream",
          "text": [
            "(6886, 5, 5000, 1)\n",
            "(6886, 9, 2)\n"
          ],
          "name": "stdout"
        }
      ]
    },
    {
      "cell_type": "code",
      "metadata": {
        "id": "zgjRnDLQ-S8b",
        "outputId": "5935d1a0-c79e-4d6f-8c57-843eea047b2f",
        "colab": {
          "base_uri": "https://localhost:8080/",
          "height": 833
        }
      },
      "source": [
        "from numpy import argmax\n",
        "from numpy import random\n",
        "print ('Training ',model.metrics_names,' = ',model.evaluate(Train_X, Train_Y, verbose=0))\n",
        "#print ('Testing ', model.metrics_names,' = ',model.evaluate(Test_X, Test_Y, verbose=0))\n",
        "#print (model.predict(Test_X))\n",
        "#print (Test_Y_1.astype('int'))\n",
        "print ('true     ',Train_Y.astype('int'))    \n",
        "print ('predicted', model.predict(Train_X))     #make random check: Test_X*0.0090, random.shuffle(Test_X), Test_X*random.random()*0.05            \n",
        "print (model.summary())\n",
        " \n",
        " \n",
        "#numpy.savetxt('/content/gdrive/My Drive/Colab Notebooks/test_data/fileO.csv',model.predict(Test_X),delimiter=',')"
      ],
      "execution_count": 13,
      "outputs": [
        {
          "output_type": "stream",
          "text": [
            "Training  ['loss', 'accuracy']  =  [0.06199546903371811, 0.9677559733390808]\n",
            "true      [[0 0 0 ... 0 1 0]\n",
            " [0 0 0 ... 0 1 0]\n",
            " [0 0 0 ... 0 0 0]\n",
            " ...\n",
            " [0 0 0 ... 1 0 0]\n",
            " [0 0 0 ... 1 0 0]\n",
            " [0 0 0 ... 0 0 0]]\n",
            "predicted [[2.7319839e-08 3.7692797e-11 5.4481734e-19 ... 4.9267995e-10\n",
            "  9.9968398e-01 6.0276424e-09]\n",
            " [4.0618481e-11 1.2596309e-24 2.1320583e-37 ... 8.6005343e-16\n",
            "  9.9999988e-01 6.0009135e-08]\n",
            " [2.4897574e-08 9.4748028e-19 7.1346914e-16 ... 6.2955292e-15\n",
            "  2.2214985e-10 2.9986067e-16]\n",
            " ...\n",
            " [3.2208249e-08 4.0971202e-07 5.3574067e-06 ... 9.9996567e-01\n",
            "  3.0557942e-06 2.4889484e-06]\n",
            " [1.5775420e-10 3.2437002e-09 1.8156700e-07 ... 9.9999774e-01\n",
            "  1.0501199e-07 1.5103776e-06]\n",
            " [3.7159473e-22 1.0921264e-12 3.0395992e-28 ... 1.2969227e-30\n",
            "  4.3513481e-11 4.8954815e-25]]\n",
            "Model: \"model\"\n",
            "_________________________________________________________________\n",
            "Layer (type)                 Output Shape              Param #   \n",
            "=================================================================\n",
            "data (InputLayer)            [(None, 5, 5000, 1)]      0         \n",
            "_________________________________________________________________\n",
            "conv2d_5 (Conv2D)            (None, 5, 2491, 100)      2100      \n",
            "_________________________________________________________________\n",
            "max_pooling2d_5 (MaxPooling2 (None, 5, 622, 100)       0         \n",
            "_________________________________________________________________\n",
            "conv2d_6 (Conv2D)            (None, 5, 603, 21)        42021     \n",
            "_________________________________________________________________\n",
            "max_pooling2d_6 (MaxPooling2 (None, 5, 12, 21)         0         \n",
            "_________________________________________________________________\n",
            "flatten_2 (Flatten)          (None, 1260)              0         \n",
            "_________________________________________________________________\n",
            "dense_9 (Dense)              (None, 64)                80704     \n",
            "_________________________________________________________________\n",
            "dense_10 (Dense)             (None, 16)                1040      \n",
            "_________________________________________________________________\n",
            "dense_11 (Dense)             (None, 9)                 153       \n",
            "=================================================================\n",
            "Total params: 126,018\n",
            "Trainable params: 126,018\n",
            "Non-trainable params: 0\n",
            "_________________________________________________________________\n",
            "None\n"
          ],
          "name": "stdout"
        }
      ]
    },
    {
      "cell_type": "code",
      "metadata": {
        "id": "zh9bju8u-W5-",
        "outputId": "63b79b5d-91bf-4d08-888e-8961eaa94bc2",
        "colab": {
          "base_uri": "https://localhost:8080/",
          "height": 590
        }
      },
      "source": [
        "#Plot the model\n",
        " \n",
        "plot_model(model, to_file='model.png', show_shapes = True, show_layer_names = True)\n",
        " \n",
        "print(history.history.keys())\n",
        "# Plot training & validation accuracy values\n",
        "plt.plot(history.history['accuracy'])\n",
        "plt.title('Model accuracy')\n",
        "plt.ylabel('Accuracy')\n",
        "plt.xlabel('Epoch')\n",
        "plt.legend(['Train', 'Test'], loc='upper left')\n",
        "plt.show()\n",
        " \n",
        "# Plot training & validation loss values\n",
        "plt.plot(history.history['loss'])\n",
        "plt.title('Model loss')\n",
        "plt.ylabel('Loss')\n",
        "plt.xlabel('Epoch')\n",
        "plt.legend(['Train', 'Test'], loc='upper left')\n",
        "plt.show()"
      ],
      "execution_count": 14,
      "outputs": [
        {
          "output_type": "stream",
          "text": [
            "dict_keys(['loss', 'accuracy', 'val_loss', 'val_accuracy'])\n"
          ],
          "name": "stdout"
        },
        {
          "output_type": "display_data",
          "data": {
            "image/png": "[encoded data removed]",
            "text/plain": [
              "<Figure size 432x288 with 1 Axes>"
            ]
          },
          "metadata": {
            "tags": [],
            "needs_background": "light"
          }
        },
        {
          "output_type": "display_data",
          "data": {
            "image/png": "[encoded data removed]",
            "text/plain": [
              "<Figure size 432x288 with 1 Axes>"
            ]
          },
          "metadata": {
            "tags": [],
            "needs_background": "light"
          }
        }
      ]
    },
    {
      "cell_type": "code",
      "metadata": {
        "id": "XMxOw2un-hDZ"
      },
      "source": [
        "#print (model.predict_classes(Test_X[:1,]))\n",
        "#model.save('my_model.h5')\n",
        "#Test_X[0]"
      ],
      "execution_count": null,
      "outputs": []
    },
    {
      "cell_type": "code",
      "metadata": {
        "id": "pafL7Li0jyXW"
      },
      "source": [
        ""
      ],
      "execution_count": null,
      "outputs": []
    }
  ]
}