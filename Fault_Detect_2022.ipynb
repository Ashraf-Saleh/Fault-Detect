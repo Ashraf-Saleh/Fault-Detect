{
  "cells": [
    {
      "cell_type": "markdown",
      "metadata": {
        "id": "view-in-github",
        "colab_type": "text"
      },
      "source": [
        "<a href=\"https://colab.research.google.com/github/Ashraf-Saleh/Fault-Detect/blob/Master/Fault_Detect_2022.ipynb\" target=\"_parent\"><img src=\"https://colab.research.google.com/assets/colab-badge.svg\" alt=\"Open In Colab\"/></a>"
      ]
    },
    {
      "cell_type": "code",
      "execution_count": 1,
      "metadata": {
        "id": "4fC_4ZoA4kTs"
      },
      "outputs": [],
      "source": [
        "import numpy\n",
        "import glob\n",
        "import matplotlib.pyplot as plt\n",
        "import matplotlib.image as mpimg\n",
        "import keras \n",
        "import tensorflow as tf\n",
        "from keras import layers\n",
        "from keras.models import Sequential\n",
        "from keras.layers.convolutional import Conv1D, MaxPooling1D\n",
        "from keras.layers.convolutional import Conv2D, MaxPooling2D, AveragePooling2D\n",
        "from keras.optimizers import SGD\n",
        "from keras.layers import Dense, Flatten, Dropout, Activation, BatchNormalization,Concatenate\n",
        "from keras.utils.np_utils import to_categorical\n",
        "from keras.models import model_from_json\n",
        "from tensorflow.keras.utils import plot_model\n",
        "import random, os\n",
        "import multiprocessing as mp\n",
        "from queue import Empty\n",
        "import time"
      ]
    },
    {
      "cell_type": "code",
      "execution_count": 2,
      "metadata": {
        "id": "CmNM9eax5SsQ",
        "colab": {
          "base_uri": "https://localhost:8080/"
        },
        "outputId": "bfb96b3a-5cf9-4a06-da12-8d0536d55ab2"
      },
      "outputs": [
        {
          "output_type": "stream",
          "name": "stdout",
          "text": [
            "Mounted at /content/drive\n"
          ]
        }
      ],
      "source": [
        "from google.colab import drive\n",
        "drive.mount('/content/drive')"
      ]
    },
    {
      "cell_type": "code",
      "execution_count": null,
      "metadata": {
        "id": "lpO0tJE1908T"
      },
      "outputs": [],
      "source": [
        "Data_X = numpy.load(\"/content/drive/My Drive/Colab_Data/Fault_Detect/Train_X_Sample.npy\",None,allow_pickle=True)\n",
        "Data_Y = numpy.load(\"/content/drive/My Drive/Colab_Data/Fault_Detect/Train_Y_Sample.npy\",None,allow_pickle=True)"
      ]
    },
    {
      "cell_type": "code",
      "execution_count": null,
      "metadata": {
        "colab": {
          "base_uri": "https://localhost:8080/"
        },
        "id": "he29m36L60Wn",
        "outputId": "12f25547-7252-4f6d-8ee0-a7b34e8bd07b"
      },
      "outputs": [
        {
          "name": "stdout",
          "output_type": "stream",
          "text": [
            "The shape of the Input: (22950, 5, 5000, 1)\n",
            "The shape of the Training X: (16064, 5, 5000, 1)\n",
            "The shape of the Validate X: (3443, 5, 5000, 1)\n",
            "The shape of the Testing X: (3443, 5, 5000, 1)\n",
            "\n",
            "The shape of the Output: (22950, 9)\n",
            "The shape of the Training Y: (16064, 9)\n",
            "The shape of the Validate Y: (3443, 9)\n",
            "The shape of the Testing Y: (3443, 9)\n"
          ]
        }
      ],
      "source": [
        "#Train_X = Data_X\n",
        "#Train_Y = Data_Y\n",
        "Train_X = Data_X[:int(len(Data_X)*0.7)]\n",
        "Train_Y = Data_Y[:int(len(Data_Y)*0.7)]\n",
        "Vald_X = Data_X[int(len(Data_X)*0.7):int(len(Data_X)*0.85)]\n",
        "Vald_Y = Data_Y[int(len(Data_Y)*0.7):int(len(Data_Y)*0.85)]\n",
        "Test_X = Data_X[int(len(Data_X)*0.85):]\n",
        "Test_Y = Data_Y[int(len(Data_Y)*0.85):]\n",
        "\n",
        "numpy.save(\"/content/drive/My Drive/Colab_Data/Fault_Detect/Train_X.npy\", Train_X)\n",
        "numpy.save(\"/content/drive/My Drive/Colab_Data/Fault_Detect/Train_Y.npy\", Train_Y)\n",
        "numpy.save(\"/content/drive/My Drive/Colab_Data/Fault_Detect/Vald_X.npy\", Vald_X)\n",
        "numpy.save(\"/content/drive/My Drive/Colab_Data/Fault_Detect/Vald_Y.npy\", Vald_Y)\n",
        "numpy.save(\"/content/drive/My Drive/Colab_Data/Fault_Detect/Test_X.npy\",Test_X)\n",
        "numpy.save(\"/content/drive/My Drive/Colab_Data/Fault_Detect/Test_Y.npy\", Test_Y)\n",
        " \n",
        "print(\"The shape of the Input:\", Data_X.shape)\n",
        "print(\"The shape of the Training X:\",Train_X.shape)\n",
        "print(\"The shape of the Validate X:\",Vald_X.shape)\n",
        "print(\"The shape of the Testing X:\",Test_X.shape)\n",
        "print (\"\")\n",
        "print(\"The shape of the Output:\",Data_Y.shape)\n",
        "print(\"The shape of the Training Y:\",Train_Y.shape)\n",
        "print(\"The shape of the Validate Y:\",Vald_Y.shape)\n",
        "print(\"The shape of the Testing Y:\",Test_Y.shape)\n",
        "\n",
        "#print(Data_X.shape)\n",
        "#print(Data_Y.shape)\n",
        "#print(Data_X[:10])\n",
        "#print(Data_Y[:10].astype('int'))"
      ]
    },
    {
      "cell_type": "code",
      "execution_count": null,
      "metadata": {
        "id": "iVXGPl3BF61k"
      },
      "outputs": [],
      "source": [
        "#del(Data_X)\n",
        "#del(Data_Y)\n",
        "#del(Train_X)\n",
        "#del(Train_Y)\n",
        "#del(Vald_X)\n",
        "#del(Vald_Y)\n",
        "del(Test_X)\n",
        "del(Test_Y)"
      ]
    },
    {
      "cell_type": "code",
      "execution_count": null,
      "metadata": {
        "id": "qgsJIh9ABZFD"
      },
      "outputs": [],
      "source": [
        "del(history)\n",
        "del(inputs)\n",
        "del(model)\n",
        "del(outputs)\n",
        "del(x)"
      ]
    },
    {
      "cell_type": "markdown",
      "metadata": {
        "id": "hAdr4Ee-1tbD"
      },
      "source": [
        "<h2>The main network </h2>\n",
        "\n",
        "1. one Conv Layer with filter 50 , Kerna size (2, 5), strides (1, 2), activation = relu\n",
        "2. BatchNormalization \n",
        "3. MaxPooling2D (pool_size (1, 100)\n",
        "4. Output activation =  softmax  \n",
        "5. optimizer= adam, loss= CategoricalCrossentropy\n",
        "Result 94% with epoch 50 , batch size = 120,\n",
        "\n",
        "<br>Training    ['loss', 'accuracy']  =  [0.1254553496837616, 0.9498257040977478]</br>\n",
        "</br>Testing     ['loss', 'accuracy']  =  [0.14555826783180237, 0.9456868767738342]</br>\n",
        "\n",
        "<h2> 1st trial </h3>\n",
        "\n",
        "1. one Conv Layer with filter 50, Kernal size (1, 5), strides (1, 2), activation = relu\n",
        "\n",
        "\n",
        "<br>Training    ['loss', 'accuracy']  =  [0.12389756739139557, 0.9426046013832092]</br>\n",
        "<br>Testing     ['loss', 'accuracy']  =  [0.12888164818286896, 0.9430729150772095]</br>\n",
        "\n",
        "<h2>2nd trial</h2>\n",
        "1. one NN Layer with output 64 , activation = relu\n",
        "\n",
        "<br>Training    ['loss', 'accuracy']  =  [0.06926220655441284, 0.9693725109100342]</br>\n",
        "<br>Testing     ['loss', 'accuracy']  =  [0.0782979354262352, 0.9642753601074219]</br>\n",
        "\n",
        "<h2>3rd trial</h2> \n",
        "\n",
        "1. 2nd trial\n",
        "2. one NN Layer with output 32, activation = relu\n",
        "\n",
        "<br>Training    ['loss', 'accuracy']  =  [0.09163324534893036, 0.9482071995735168]</br>\n",
        "<br>Testing     ['loss', 'accuracy']  =  [0.09710441529750824, 0.9433633685112]</br>\n",
        "\n",
        "<h2>4th trial</h2>\n",
        "\n",
        "1. 2nd trial\n",
        "2. one Conv Layer with filter 21, Kernal size (2, 20), pading = same, activation = relu\n",
        "\n",
        "<br>Training    ['loss', 'accuracy']  =  [0.077150858938694, 0.9503237009048462]</br>\n",
        "<br>Testing     ['loss', 'accuracy']  =  [0.09069331735372543, 0.9424920082092285]</br>"
      ]
    },
    {
      "cell_type": "code",
      "execution_count": 3,
      "metadata": {
        "id": "aLeOutQ5Gved"
      },
      "outputs": [],
      "source": [
        "Train_X = numpy.load(\"/content/drive/My Drive/Colab_Data/Fault_Detect/Train_X.npy\")\n",
        "Train_Y = numpy.load(\"/content/drive/My Drive/Colab_Data/Fault_Detect/Train_Y.npy\")"
      ]
    },
    {
      "cell_type": "code",
      "execution_count": 11,
      "metadata": {
        "colab": {
          "base_uri": "https://localhost:8080/",
          "height": 720
        },
        "id": "WJKNR2B87-UN",
        "outputId": "495acecf-bec7-4d3a-afe9-f1722fa0e08f"
      },
      "outputs": [
        {
          "output_type": "stream",
          "name": "stdout",
          "text": [
            "Model: \"model\"\n",
            "_________________________________________________________________\n",
            " Layer (type)                Output Shape              Param #   \n",
            "=================================================================\n",
            " data (InputLayer)           [(None, 5, 5000, 1)]      0         \n",
            "                                                                 \n",
            " conv2d_5 (Conv2D)           (None, 5, 2498, 25)       150       \n",
            "                                                                 \n",
            " batch_normalization_5 (Batc  (None, 5, 2498, 25)      100       \n",
            " hNormalization)                                                 \n",
            "                                                                 \n",
            " max_pooling2d_5 (MaxPooling  (None, 5, 24, 25)        0         \n",
            " 2D)                                                             \n",
            "                                                                 \n",
            " flatten_5 (Flatten)         (None, 3000)              0         \n",
            "                                                                 \n",
            " dense_10 (Dense)            (None, 128)               384128    \n",
            "                                                                 \n",
            " dense_11 (Dense)            (None, 9)                 1161      \n",
            "                                                                 \n",
            "=================================================================\n",
            "Total params: 385,539\n",
            "Trainable params: 385,489\n",
            "Non-trainable params: 50\n",
            "_________________________________________________________________\n"
          ]
        },
        {
          "output_type": "execute_result",
          "data": {
            "text/plain": [
              "<matplotlib.image.AxesImage at 0x7f5b20552880>"
            ]
          },
          "metadata": {},
          "execution_count": 11
        },
        {
          "output_type": "display_data",
          "data": {
            "text/plain": [
              "<Figure size 432x288 with 1 Axes>"
            ],
            "image/png": "[encoded data removed]"
          },
          "metadata": {
            "needs_background": "light"
          }
        }
      ],
      "source": [
        "inputs = keras.Input(shape = (Train_X.shape[1], Train_X.shape[2], Train_X.shape[3]), name=\"data\")\n",
        "x = layers.Conv2D(filters = 25, kernel_size = (1, 5),strides=(1, 2), activation = \"relu\") (inputs)\n",
        "#x = layers.Conv2D(filters = 50, kernel_size = (1, 5),strides=(1, 2), activation = \"relu\") (x)                 # first Trial 13/12/2022\n",
        "x = layers.BatchNormalization()(x)\n",
        "x = layers.MaxPooling2D(pool_size = (1,100)) (x)\n",
        "\n",
        "x = layers.Flatten()(x) \n",
        "x = layers.Dense(128, activation=\"relu\")(x) \n",
        "\n",
        "outputs = layers.Dense(Train_Y.shape[1], activation='softmax')(x)\n",
        "model = keras.Model(inputs, outputs, name=\"model\") \n",
        "model.compile(optimizer='adam', loss='CategoricalCrossentropy', metrics=['accuracy']) \n",
        "model.summary()\n",
        "plot_model(model, to_file='/content/drive/My Drive/Colab_Data/Fault_Detect/model.png',show_shapes=True)\n",
        "plt.imshow(mpimg.imread('/content/drive/My Drive/Colab_Data/Fault_Detect/model.png'))"
      ]
    },
    {
      "cell_type": "code",
      "execution_count": 5,
      "metadata": {
        "id": "Kz3SOLk18iyd"
      },
      "outputs": [],
      "source": [
        "Vald_X = numpy.load(\"/content/drive/My Drive/Colab_Data/Fault_Detect/Vald_X.npy\")\n",
        "Vald_Y = numpy.load(\"/content/drive/My Drive/Colab_Data/Fault_Detect/Vald_Y.npy\")"
      ]
    },
    {
      "cell_type": "code",
      "execution_count": 6,
      "metadata": {
        "colab": {
          "base_uri": "https://localhost:8080/",
          "height": 1000
        },
        "id": "ACUHgqf38p-k",
        "outputId": "a96639fc-6ced-4036-be0d-e29a10073d8c"
      },
      "outputs": [
        {
          "output_type": "stream",
          "name": "stdout",
          "text": [
            "Epoch 1/400\n",
            "129/129 - 18s - loss: 0.8480 - accuracy: 0.7455 - val_loss: 1.3123 - val_accuracy: 0.6898 - 18s/epoch - 143ms/step\n",
            "Epoch 2/400\n",
            "129/129 - 6s - loss: 0.3381 - accuracy: 0.8301 - val_loss: 1.0150 - val_accuracy: 0.6108 - 6s/epoch - 46ms/step\n",
            "Epoch 3/400\n",
            "129/129 - 6s - loss: 0.3011 - accuracy: 0.8500 - val_loss: 0.5745 - val_accuracy: 0.8551 - 6s/epoch - 44ms/step\n",
            "Epoch 4/400\n",
            "129/129 - 6s - loss: 0.2529 - accuracy: 0.8766 - val_loss: 0.3146 - val_accuracy: 0.8693 - 6s/epoch - 44ms/step\n",
            "Epoch 5/400\n",
            "129/129 - 6s - loss: 0.2352 - accuracy: 0.8866 - val_loss: 0.2810 - val_accuracy: 0.8516 - 6s/epoch - 45ms/step\n",
            "Epoch 6/400\n",
            "129/129 - 6s - loss: 0.2180 - accuracy: 0.8907 - val_loss: 0.2037 - val_accuracy: 0.9097 - 6s/epoch - 45ms/step\n",
            "Epoch 7/400\n",
            "129/129 - 6s - loss: 0.2254 - accuracy: 0.8899 - val_loss: 0.3096 - val_accuracy: 0.8638 - 6s/epoch - 45ms/step\n",
            "Epoch 8/400\n",
            "129/129 - 6s - loss: 0.2009 - accuracy: 0.9036 - val_loss: 0.2058 - val_accuracy: 0.9044 - 6s/epoch - 45ms/step\n",
            "Epoch 9/400\n",
            "129/129 - 6s - loss: 0.1920 - accuracy: 0.9058 - val_loss: 0.1685 - val_accuracy: 0.9140 - 6s/epoch - 45ms/step\n",
            "Epoch 10/400\n",
            "129/129 - 6s - loss: 0.1887 - accuracy: 0.9053 - val_loss: 0.3949 - val_accuracy: 0.8577 - 6s/epoch - 45ms/step\n",
            "Epoch 11/400\n",
            "129/129 - 6s - loss: 0.2117 - accuracy: 0.8939 - val_loss: 0.1636 - val_accuracy: 0.9210 - 6s/epoch - 45ms/step\n",
            "Epoch 12/400\n",
            "129/129 - 6s - loss: 0.1683 - accuracy: 0.9174 - val_loss: 0.1616 - val_accuracy: 0.9277 - 6s/epoch - 47ms/step\n",
            "Epoch 13/400\n",
            "129/129 - 6s - loss: 0.1732 - accuracy: 0.9125 - val_loss: 0.1702 - val_accuracy: 0.9344 - 6s/epoch - 45ms/step\n",
            "Epoch 14/400\n",
            "129/129 - 6s - loss: 0.1768 - accuracy: 0.9112 - val_loss: 0.1560 - val_accuracy: 0.9297 - 6s/epoch - 44ms/step\n",
            "Epoch 15/400\n",
            "129/129 - 6s - loss: 0.1611 - accuracy: 0.9204 - val_loss: 0.1525 - val_accuracy: 0.9283 - 6s/epoch - 44ms/step\n",
            "Epoch 16/400\n",
            "129/129 - 6s - loss: 0.1596 - accuracy: 0.9193 - val_loss: 0.1426 - val_accuracy: 0.9268 - 6s/epoch - 44ms/step\n",
            "Epoch 17/400\n",
            "129/129 - 6s - loss: 0.1545 - accuracy: 0.9249 - val_loss: 0.1537 - val_accuracy: 0.9201 - 6s/epoch - 44ms/step\n",
            "Epoch 18/400\n",
            "129/129 - 6s - loss: 0.1489 - accuracy: 0.9236 - val_loss: 0.1390 - val_accuracy: 0.9306 - 6s/epoch - 44ms/step\n",
            "Epoch 19/400\n",
            "129/129 - 6s - loss: 0.1411 - accuracy: 0.9254 - val_loss: 0.1526 - val_accuracy: 0.9204 - 6s/epoch - 45ms/step\n",
            "Epoch 20/400\n",
            "129/129 - 6s - loss: 0.1523 - accuracy: 0.9186 - val_loss: 0.1503 - val_accuracy: 0.9161 - 6s/epoch - 44ms/step\n",
            "Epoch 21/400\n",
            "129/129 - 6s - loss: 0.1290 - accuracy: 0.9316 - val_loss: 0.1282 - val_accuracy: 0.9329 - 6s/epoch - 44ms/step\n",
            "Epoch 22/400\n",
            "129/129 - 6s - loss: 0.1310 - accuracy: 0.9346 - val_loss: 0.1070 - val_accuracy: 0.9509 - 6s/epoch - 44ms/step\n",
            "Epoch 23/400\n",
            "129/129 - 6s - loss: 0.1255 - accuracy: 0.9332 - val_loss: 0.1195 - val_accuracy: 0.9349 - 6s/epoch - 44ms/step\n",
            "Epoch 24/400\n",
            "129/129 - 6s - loss: 0.1250 - accuracy: 0.9338 - val_loss: 0.1153 - val_accuracy: 0.9370 - 6s/epoch - 44ms/step\n",
            "Epoch 25/400\n",
            "129/129 - 6s - loss: 0.1221 - accuracy: 0.9354 - val_loss: 0.1130 - val_accuracy: 0.9416 - 6s/epoch - 44ms/step\n",
            "Epoch 26/400\n",
            "129/129 - 6s - loss: 0.1160 - accuracy: 0.9406 - val_loss: 0.1243 - val_accuracy: 0.9320 - 6s/epoch - 44ms/step\n",
            "Epoch 27/400\n",
            "129/129 - 6s - loss: 0.1247 - accuracy: 0.9337 - val_loss: 0.1426 - val_accuracy: 0.9329 - 6s/epoch - 44ms/step\n",
            "Epoch 28/400\n",
            "129/129 - 6s - loss: 0.1732 - accuracy: 0.9216 - val_loss: 0.1381 - val_accuracy: 0.9303 - 6s/epoch - 44ms/step\n",
            "Epoch 29/400\n",
            "129/129 - 6s - loss: 0.1388 - accuracy: 0.9316 - val_loss: 0.1889 - val_accuracy: 0.9169 - 6s/epoch - 44ms/step\n",
            "Epoch 30/400\n",
            "129/129 - 6s - loss: 0.1322 - accuracy: 0.9301 - val_loss: 0.1086 - val_accuracy: 0.9454 - 6s/epoch - 44ms/step\n",
            "Epoch 31/400\n",
            "129/129 - 6s - loss: 0.1117 - accuracy: 0.9393 - val_loss: 0.1156 - val_accuracy: 0.9355 - 6s/epoch - 45ms/step\n",
            "Epoch 32/400\n",
            "129/129 - 6s - loss: 0.1132 - accuracy: 0.9370 - val_loss: 0.1007 - val_accuracy: 0.9422 - 6s/epoch - 45ms/step\n",
            "Epoch 33/400\n",
            "129/129 - 6s - loss: 0.1076 - accuracy: 0.9425 - val_loss: 0.0957 - val_accuracy: 0.9556 - 6s/epoch - 44ms/step\n",
            "Epoch 34/400\n",
            "129/129 - 6s - loss: 0.1096 - accuracy: 0.9422 - val_loss: 0.0955 - val_accuracy: 0.9477 - 6s/epoch - 44ms/step\n",
            "Epoch 35/400\n",
            "129/129 - 6s - loss: 0.1049 - accuracy: 0.9415 - val_loss: 0.1084 - val_accuracy: 0.9451 - 6s/epoch - 45ms/step\n",
            "Epoch 36/400\n",
            "129/129 - 6s - loss: 0.1151 - accuracy: 0.9373 - val_loss: 0.0995 - val_accuracy: 0.9448 - 6s/epoch - 45ms/step\n",
            "Epoch 37/400\n",
            "129/129 - 6s - loss: 0.1095 - accuracy: 0.9404 - val_loss: 0.1086 - val_accuracy: 0.9486 - 6s/epoch - 45ms/step\n",
            "Epoch 38/400\n",
            "129/129 - 6s - loss: 0.1075 - accuracy: 0.9430 - val_loss: 0.6659 - val_accuracy: 0.8734 - 6s/epoch - 45ms/step\n",
            "Epoch 39/400\n",
            "129/129 - 6s - loss: 0.1744 - accuracy: 0.9300 - val_loss: 0.0963 - val_accuracy: 0.9524 - 6s/epoch - 45ms/step\n",
            "Epoch 40/400\n",
            "129/129 - 6s - loss: 0.1017 - accuracy: 0.9458 - val_loss: 0.0877 - val_accuracy: 0.9532 - 6s/epoch - 45ms/step\n",
            "Epoch 41/400\n",
            "129/129 - 6s - loss: 0.0990 - accuracy: 0.9462 - val_loss: 0.0925 - val_accuracy: 0.9524 - 6s/epoch - 45ms/step\n",
            "Epoch 42/400\n",
            "129/129 - 6s - loss: 0.1008 - accuracy: 0.9456 - val_loss: 0.0925 - val_accuracy: 0.9567 - 6s/epoch - 45ms/step\n",
            "Epoch 43/400\n",
            "129/129 - 6s - loss: 0.1018 - accuracy: 0.9430 - val_loss: 0.0961 - val_accuracy: 0.9535 - 6s/epoch - 45ms/step\n",
            "Epoch 44/400\n",
            "129/129 - 6s - loss: 0.1009 - accuracy: 0.9455 - val_loss: 0.0898 - val_accuracy: 0.9518 - 6s/epoch - 45ms/step\n",
            "Epoch 45/400\n",
            "129/129 - 6s - loss: 0.0955 - accuracy: 0.9481 - val_loss: 0.0925 - val_accuracy: 0.9448 - 6s/epoch - 45ms/step\n",
            "Epoch 46/400\n",
            "129/129 - 6s - loss: 0.1066 - accuracy: 0.9410 - val_loss: 0.0971 - val_accuracy: 0.9468 - 6s/epoch - 45ms/step\n",
            "Epoch 47/400\n",
            "129/129 - 6s - loss: 0.0988 - accuracy: 0.9462 - val_loss: 0.1241 - val_accuracy: 0.9384 - 6s/epoch - 45ms/step\n",
            "Epoch 48/400\n",
            "129/129 - 6s - loss: 0.1079 - accuracy: 0.9396 - val_loss: 0.0942 - val_accuracy: 0.9547 - 6s/epoch - 45ms/step\n",
            "Epoch 49/400\n",
            "129/129 - 6s - loss: 0.0891 - accuracy: 0.9498 - val_loss: 0.0972 - val_accuracy: 0.9492 - 6s/epoch - 45ms/step\n",
            "Epoch 50/400\n",
            "129/129 - 6s - loss: 0.0951 - accuracy: 0.9478 - val_loss: 0.1193 - val_accuracy: 0.9381 - 6s/epoch - 45ms/step\n",
            "Epoch 51/400\n",
            "129/129 - 6s - loss: 0.0907 - accuracy: 0.9480 - val_loss: 0.1136 - val_accuracy: 0.9434 - 6s/epoch - 45ms/step\n",
            "Epoch 52/400\n",
            "129/129 - 6s - loss: 0.0966 - accuracy: 0.9459 - val_loss: 0.0993 - val_accuracy: 0.9471 - 6s/epoch - 45ms/step\n",
            "Epoch 53/400\n",
            "129/129 - 6s - loss: 0.1200 - accuracy: 0.9391 - val_loss: 0.1321 - val_accuracy: 0.9317 - 6s/epoch - 45ms/step\n",
            "Epoch 54/400\n",
            "129/129 - 6s - loss: 0.1217 - accuracy: 0.9425 - val_loss: 0.3588 - val_accuracy: 0.9088 - 6s/epoch - 45ms/step\n",
            "Epoch 55/400\n",
            "129/129 - 6s - loss: 0.1452 - accuracy: 0.9350 - val_loss: 0.0944 - val_accuracy: 0.9486 - 6s/epoch - 45ms/step\n",
            "Epoch 56/400\n",
            "129/129 - 6s - loss: 0.0885 - accuracy: 0.9486 - val_loss: 0.0819 - val_accuracy: 0.9588 - 6s/epoch - 45ms/step\n",
            "Epoch 57/400\n",
            "129/129 - 6s - loss: 0.1049 - accuracy: 0.9437 - val_loss: 0.1140 - val_accuracy: 0.9338 - 6s/epoch - 47ms/step\n",
            "Epoch 58/400\n",
            "129/129 - 6s - loss: 0.0993 - accuracy: 0.9435 - val_loss: 0.0904 - val_accuracy: 0.9582 - 6s/epoch - 45ms/step\n",
            "Epoch 59/400\n",
            "129/129 - 6s - loss: 0.0947 - accuracy: 0.9465 - val_loss: 0.0881 - val_accuracy: 0.9550 - 6s/epoch - 45ms/step\n",
            "Epoch 60/400\n",
            "129/129 - 6s - loss: 0.1104 - accuracy: 0.9407 - val_loss: 0.1126 - val_accuracy: 0.9416 - 6s/epoch - 45ms/step\n",
            "Epoch 61/400\n",
            "129/129 - 6s - loss: 0.0986 - accuracy: 0.9437 - val_loss: 0.1027 - val_accuracy: 0.9448 - 6s/epoch - 45ms/step\n",
            "Epoch 62/400\n",
            "129/129 - 6s - loss: 0.0906 - accuracy: 0.9516 - val_loss: 0.0859 - val_accuracy: 0.9486 - 6s/epoch - 45ms/step\n",
            "Epoch 63/400\n",
            "129/129 - 6s - loss: 0.0895 - accuracy: 0.9514 - val_loss: 0.1030 - val_accuracy: 0.9448 - 6s/epoch - 45ms/step\n",
            "Epoch 64/400\n",
            "129/129 - 6s - loss: 0.0924 - accuracy: 0.9504 - val_loss: 0.0946 - val_accuracy: 0.9529 - 6s/epoch - 45ms/step\n",
            "Epoch 65/400\n",
            "129/129 - 6s - loss: 0.0918 - accuracy: 0.9495 - val_loss: 0.0938 - val_accuracy: 0.9515 - 6s/epoch - 46ms/step\n",
            "Epoch 66/400\n",
            "129/129 - 6s - loss: 0.0917 - accuracy: 0.9471 - val_loss: 0.0876 - val_accuracy: 0.9550 - 6s/epoch - 45ms/step\n",
            "Epoch 67/400\n",
            "129/129 - 6s - loss: 0.0979 - accuracy: 0.9462 - val_loss: 0.2106 - val_accuracy: 0.9262 - 6s/epoch - 45ms/step\n",
            "Epoch 68/400\n",
            "129/129 - 6s - loss: 0.1094 - accuracy: 0.9436 - val_loss: 0.0809 - val_accuracy: 0.9576 - 6s/epoch - 45ms/step\n",
            "Epoch 69/400\n",
            "129/129 - 6s - loss: 0.0889 - accuracy: 0.9498 - val_loss: 0.0807 - val_accuracy: 0.9573 - 6s/epoch - 46ms/step\n",
            "Epoch 70/400\n",
            "129/129 - 6s - loss: 0.1330 - accuracy: 0.9404 - val_loss: 0.2646 - val_accuracy: 0.9050 - 6s/epoch - 46ms/step\n",
            "Epoch 71/400\n",
            "129/129 - 6s - loss: 0.1311 - accuracy: 0.9395 - val_loss: 0.1398 - val_accuracy: 0.9358 - 6s/epoch - 45ms/step\n",
            "Epoch 72/400\n",
            "129/129 - 6s - loss: 0.0933 - accuracy: 0.9488 - val_loss: 0.0845 - val_accuracy: 0.9544 - 6s/epoch - 45ms/step\n",
            "Epoch 73/400\n",
            "129/129 - 6s - loss: 0.0877 - accuracy: 0.9508 - val_loss: 0.0825 - val_accuracy: 0.9527 - 6s/epoch - 45ms/step\n",
            "Epoch 74/400\n",
            "129/129 - 6s - loss: 0.0836 - accuracy: 0.9519 - val_loss: 0.0804 - val_accuracy: 0.9541 - 6s/epoch - 45ms/step\n",
            "Epoch 75/400\n",
            "129/129 - 6s - loss: 0.0849 - accuracy: 0.9516 - val_loss: 0.0772 - val_accuracy: 0.9518 - 6s/epoch - 45ms/step\n",
            "Epoch 76/400\n",
            "129/129 - 6s - loss: 0.0872 - accuracy: 0.9498 - val_loss: 0.0764 - val_accuracy: 0.9585 - 6s/epoch - 45ms/step\n",
            "Epoch 77/400\n",
            "129/129 - 6s - loss: 0.0834 - accuracy: 0.9514 - val_loss: 0.0771 - val_accuracy: 0.9538 - 6s/epoch - 45ms/step\n",
            "Epoch 78/400\n",
            "129/129 - 6s - loss: 0.0842 - accuracy: 0.9510 - val_loss: 0.0827 - val_accuracy: 0.9506 - 6s/epoch - 45ms/step\n",
            "Epoch 79/400\n",
            "129/129 - 6s - loss: 0.0977 - accuracy: 0.9466 - val_loss: 0.0833 - val_accuracy: 0.9480 - 6s/epoch - 45ms/step\n",
            "Epoch 80/400\n",
            "129/129 - 6s - loss: 0.0845 - accuracy: 0.9509 - val_loss: 0.1101 - val_accuracy: 0.9471 - 6s/epoch - 45ms/step\n",
            "Epoch 81/400\n",
            "129/129 - 6s - loss: 0.0789 - accuracy: 0.9560 - val_loss: 0.0831 - val_accuracy: 0.9535 - 6s/epoch - 45ms/step\n",
            "Epoch 82/400\n",
            "129/129 - 6s - loss: 0.0828 - accuracy: 0.9516 - val_loss: 0.0780 - val_accuracy: 0.9579 - 6s/epoch - 45ms/step\n",
            "Epoch 83/400\n",
            "129/129 - 6s - loss: 0.0835 - accuracy: 0.9515 - val_loss: 0.1099 - val_accuracy: 0.9370 - 6s/epoch - 45ms/step\n",
            "Epoch 84/400\n",
            "129/129 - 6s - loss: 0.1187 - accuracy: 0.9481 - val_loss: 0.1409 - val_accuracy: 0.9445 - 6s/epoch - 45ms/step\n",
            "Epoch 85/400\n",
            "129/129 - 6s - loss: 0.1423 - accuracy: 0.9349 - val_loss: 0.0960 - val_accuracy: 0.9529 - 6s/epoch - 45ms/step\n",
            "Epoch 86/400\n",
            "129/129 - 6s - loss: 0.0833 - accuracy: 0.9511 - val_loss: 0.0755 - val_accuracy: 0.9573 - 6s/epoch - 45ms/step\n",
            "Epoch 87/400\n",
            "129/129 - 6s - loss: 0.0798 - accuracy: 0.9531 - val_loss: 0.0843 - val_accuracy: 0.9556 - 6s/epoch - 46ms/step\n",
            "Epoch 88/400\n",
            "129/129 - 6s - loss: 0.0796 - accuracy: 0.9530 - val_loss: 0.0800 - val_accuracy: 0.9567 - 6s/epoch - 45ms/step\n",
            "Epoch 89/400\n",
            "129/129 - 6s - loss: 0.0805 - accuracy: 0.9553 - val_loss: 0.0765 - val_accuracy: 0.9596 - 6s/epoch - 45ms/step\n",
            "Epoch 90/400\n",
            "129/129 - 6s - loss: 0.0787 - accuracy: 0.9524 - val_loss: 0.0740 - val_accuracy: 0.9588 - 6s/epoch - 45ms/step\n",
            "Epoch 91/400\n",
            "129/129 - 6s - loss: 0.0775 - accuracy: 0.9559 - val_loss: 0.0772 - val_accuracy: 0.9553 - 6s/epoch - 45ms/step\n",
            "Epoch 92/400\n",
            "129/129 - 6s - loss: 0.0842 - accuracy: 0.9527 - val_loss: 0.1236 - val_accuracy: 0.9344 - 6s/epoch - 45ms/step\n",
            "Epoch 93/400\n",
            "129/129 - 6s - loss: 0.0846 - accuracy: 0.9534 - val_loss: 0.0741 - val_accuracy: 0.9570 - 6s/epoch - 45ms/step\n",
            "Epoch 94/400\n",
            "129/129 - 6s - loss: 0.0789 - accuracy: 0.9534 - val_loss: 0.0877 - val_accuracy: 0.9541 - 6s/epoch - 45ms/step\n",
            "Epoch 95/400\n",
            "129/129 - 6s - loss: 0.0758 - accuracy: 0.9543 - val_loss: 0.0732 - val_accuracy: 0.9608 - 6s/epoch - 45ms/step\n",
            "Epoch 96/400\n",
            "129/129 - 6s - loss: 0.0786 - accuracy: 0.9546 - val_loss: 0.0722 - val_accuracy: 0.9567 - 6s/epoch - 45ms/step\n",
            "Epoch 97/400\n",
            "129/129 - 6s - loss: 0.0797 - accuracy: 0.9532 - val_loss: 0.0772 - val_accuracy: 0.9602 - 6s/epoch - 45ms/step\n",
            "Epoch 98/400\n",
            "129/129 - 6s - loss: 0.0797 - accuracy: 0.9546 - val_loss: 0.0812 - val_accuracy: 0.9538 - 6s/epoch - 46ms/step\n",
            "Epoch 99/400\n",
            "129/129 - 6s - loss: 0.0850 - accuracy: 0.9503 - val_loss: 0.0739 - val_accuracy: 0.9585 - 6s/epoch - 45ms/step\n",
            "Epoch 100/400\n",
            "129/129 - 6s - loss: 0.0944 - accuracy: 0.9493 - val_loss: 0.1163 - val_accuracy: 0.9480 - 6s/epoch - 45ms/step\n",
            "Epoch 101/400\n",
            "129/129 - 6s - loss: 0.1274 - accuracy: 0.9420 - val_loss: 0.0964 - val_accuracy: 0.9498 - 6s/epoch - 45ms/step\n",
            "Epoch 102/400\n",
            "129/129 - 6s - loss: 0.0843 - accuracy: 0.9539 - val_loss: 0.0813 - val_accuracy: 0.9541 - 6s/epoch - 44ms/step\n",
            "Epoch 103/400\n"
          ]
        },
        {
          "output_type": "error",
          "ename": "KeyboardInterrupt",
          "evalue": "ignored",
          "traceback": [
            "\u001b[0;31m---------------------------------------------------------------------------\u001b[0m",
            "\u001b[0;31mKeyboardInterrupt\u001b[0m                         Traceback (most recent call last)",
            "\u001b[0;32m<ipython-input-6-6bf9b9ff7363>\u001b[0m in \u001b[0;36m<module>\u001b[0;34m\u001b[0m\n\u001b[0;32m----> 1\u001b[0;31m \u001b[0mhistory\u001b[0m \u001b[0;34m=\u001b[0m \u001b[0mmodel\u001b[0m\u001b[0;34m.\u001b[0m\u001b[0mfit\u001b[0m\u001b[0;34m(\u001b[0m\u001b[0mTrain_X\u001b[0m\u001b[0;34m,\u001b[0m \u001b[0mTrain_Y\u001b[0m\u001b[0;34m,\u001b[0m \u001b[0mepochs\u001b[0m\u001b[0;34m=\u001b[0m\u001b[0;36m400\u001b[0m\u001b[0;34m,\u001b[0m\u001b[0mbatch_size\u001b[0m \u001b[0;34m=\u001b[0m \u001b[0;36m125\u001b[0m\u001b[0;34m,\u001b[0m \u001b[0mverbose\u001b[0m\u001b[0;34m=\u001b[0m\u001b[0;36m2\u001b[0m\u001b[0;34m,\u001b[0m \u001b[0mvalidation_data\u001b[0m\u001b[0;34m=\u001b[0m\u001b[0;34m(\u001b[0m\u001b[0mVald_X\u001b[0m\u001b[0;34m,\u001b[0m\u001b[0mVald_Y\u001b[0m\u001b[0;34m)\u001b[0m\u001b[0;34m)\u001b[0m\u001b[0;34m\u001b[0m\u001b[0;34m\u001b[0m\u001b[0m\n\u001b[0m",
            "\u001b[0;32m/usr/local/lib/python3.8/dist-packages/keras/utils/traceback_utils.py\u001b[0m in \u001b[0;36merror_handler\u001b[0;34m(*args, **kwargs)\u001b[0m\n\u001b[1;32m     62\u001b[0m     \u001b[0mfiltered_tb\u001b[0m \u001b[0;34m=\u001b[0m \u001b[0;32mNone\u001b[0m\u001b[0;34m\u001b[0m\u001b[0;34m\u001b[0m\u001b[0m\n\u001b[1;32m     63\u001b[0m     \u001b[0;32mtry\u001b[0m\u001b[0;34m:\u001b[0m\u001b[0;34m\u001b[0m\u001b[0;34m\u001b[0m\u001b[0m\n\u001b[0;32m---> 64\u001b[0;31m       \u001b[0;32mreturn\u001b[0m \u001b[0mfn\u001b[0m\u001b[0;34m(\u001b[0m\u001b[0;34m*\u001b[0m\u001b[0margs\u001b[0m\u001b[0;34m,\u001b[0m \u001b[0;34m**\u001b[0m\u001b[0mkwargs\u001b[0m\u001b[0;34m)\u001b[0m\u001b[0;34m\u001b[0m\u001b[0;34m\u001b[0m\u001b[0m\n\u001b[0m\u001b[1;32m     65\u001b[0m     \u001b[0;32mexcept\u001b[0m \u001b[0mException\u001b[0m \u001b[0;32mas\u001b[0m \u001b[0me\u001b[0m\u001b[0;34m:\u001b[0m  \u001b[0;31m# pylint: disable=broad-except\u001b[0m\u001b[0;34m\u001b[0m\u001b[0;34m\u001b[0m\u001b[0m\n\u001b[1;32m     66\u001b[0m       \u001b[0mfiltered_tb\u001b[0m \u001b[0;34m=\u001b[0m \u001b[0m_process_traceback_frames\u001b[0m\u001b[0;34m(\u001b[0m\u001b[0me\u001b[0m\u001b[0;34m.\u001b[0m\u001b[0m__traceback__\u001b[0m\u001b[0;34m)\u001b[0m\u001b[0;34m\u001b[0m\u001b[0;34m\u001b[0m\u001b[0m\n",
            "\u001b[0;32m/usr/local/lib/python3.8/dist-packages/keras/engine/training.py\u001b[0m in \u001b[0;36mfit\u001b[0;34m(self, x, y, batch_size, epochs, verbose, callbacks, validation_split, validation_data, shuffle, class_weight, sample_weight, initial_epoch, steps_per_epoch, validation_steps, validation_batch_size, validation_freq, max_queue_size, workers, use_multiprocessing)\u001b[0m\n\u001b[1;32m   1407\u001b[0m                 _r=1):\n\u001b[1;32m   1408\u001b[0m               \u001b[0mcallbacks\u001b[0m\u001b[0;34m.\u001b[0m\u001b[0mon_train_batch_begin\u001b[0m\u001b[0;34m(\u001b[0m\u001b[0mstep\u001b[0m\u001b[0;34m)\u001b[0m\u001b[0;34m\u001b[0m\u001b[0;34m\u001b[0m\u001b[0m\n\u001b[0;32m-> 1409\u001b[0;31m               \u001b[0mtmp_logs\u001b[0m \u001b[0;34m=\u001b[0m \u001b[0mself\u001b[0m\u001b[0;34m.\u001b[0m\u001b[0mtrain_function\u001b[0m\u001b[0;34m(\u001b[0m\u001b[0miterator\u001b[0m\u001b[0;34m)\u001b[0m\u001b[0;34m\u001b[0m\u001b[0;34m\u001b[0m\u001b[0m\n\u001b[0m\u001b[1;32m   1410\u001b[0m               \u001b[0;32mif\u001b[0m \u001b[0mdata_handler\u001b[0m\u001b[0;34m.\u001b[0m\u001b[0mshould_sync\u001b[0m\u001b[0;34m:\u001b[0m\u001b[0;34m\u001b[0m\u001b[0;34m\u001b[0m\u001b[0m\n\u001b[1;32m   1411\u001b[0m                 \u001b[0mcontext\u001b[0m\u001b[0;34m.\u001b[0m\u001b[0masync_wait\u001b[0m\u001b[0;34m(\u001b[0m\u001b[0;34m)\u001b[0m\u001b[0;34m\u001b[0m\u001b[0;34m\u001b[0m\u001b[0m\n",
            "\u001b[0;32m/usr/local/lib/python3.8/dist-packages/tensorflow/python/util/traceback_utils.py\u001b[0m in \u001b[0;36merror_handler\u001b[0;34m(*args, **kwargs)\u001b[0m\n\u001b[1;32m    148\u001b[0m     \u001b[0mfiltered_tb\u001b[0m \u001b[0;34m=\u001b[0m \u001b[0;32mNone\u001b[0m\u001b[0;34m\u001b[0m\u001b[0;34m\u001b[0m\u001b[0m\n\u001b[1;32m    149\u001b[0m     \u001b[0;32mtry\u001b[0m\u001b[0;34m:\u001b[0m\u001b[0;34m\u001b[0m\u001b[0;34m\u001b[0m\u001b[0m\n\u001b[0;32m--> 150\u001b[0;31m       \u001b[0;32mreturn\u001b[0m \u001b[0mfn\u001b[0m\u001b[0;34m(\u001b[0m\u001b[0;34m*\u001b[0m\u001b[0margs\u001b[0m\u001b[0;34m,\u001b[0m \u001b[0;34m**\u001b[0m\u001b[0mkwargs\u001b[0m\u001b[0;34m)\u001b[0m\u001b[0;34m\u001b[0m\u001b[0;34m\u001b[0m\u001b[0m\n\u001b[0m\u001b[1;32m    151\u001b[0m     \u001b[0;32mexcept\u001b[0m \u001b[0mException\u001b[0m \u001b[0;32mas\u001b[0m \u001b[0me\u001b[0m\u001b[0;34m:\u001b[0m\u001b[0;34m\u001b[0m\u001b[0;34m\u001b[0m\u001b[0m\n\u001b[1;32m    152\u001b[0m       \u001b[0mfiltered_tb\u001b[0m \u001b[0;34m=\u001b[0m \u001b[0m_process_traceback_frames\u001b[0m\u001b[0;34m(\u001b[0m\u001b[0me\u001b[0m\u001b[0;34m.\u001b[0m\u001b[0m__traceback__\u001b[0m\u001b[0;34m)\u001b[0m\u001b[0;34m\u001b[0m\u001b[0;34m\u001b[0m\u001b[0m\n",
            "\u001b[0;32m/usr/local/lib/python3.8/dist-packages/tensorflow/python/eager/def_function.py\u001b[0m in \u001b[0;36m__call__\u001b[0;34m(self, *args, **kwds)\u001b[0m\n\u001b[1;32m    913\u001b[0m \u001b[0;34m\u001b[0m\u001b[0m\n\u001b[1;32m    914\u001b[0m       \u001b[0;32mwith\u001b[0m \u001b[0mOptionalXlaContext\u001b[0m\u001b[0;34m(\u001b[0m\u001b[0mself\u001b[0m\u001b[0;34m.\u001b[0m\u001b[0m_jit_compile\u001b[0m\u001b[0;34m)\u001b[0m\u001b[0;34m:\u001b[0m\u001b[0;34m\u001b[0m\u001b[0;34m\u001b[0m\u001b[0m\n\u001b[0;32m--> 915\u001b[0;31m         \u001b[0mresult\u001b[0m \u001b[0;34m=\u001b[0m \u001b[0mself\u001b[0m\u001b[0;34m.\u001b[0m\u001b[0m_call\u001b[0m\u001b[0;34m(\u001b[0m\u001b[0;34m*\u001b[0m\u001b[0margs\u001b[0m\u001b[0;34m,\u001b[0m \u001b[0;34m**\u001b[0m\u001b[0mkwds\u001b[0m\u001b[0;34m)\u001b[0m\u001b[0;34m\u001b[0m\u001b[0;34m\u001b[0m\u001b[0m\n\u001b[0m\u001b[1;32m    916\u001b[0m \u001b[0;34m\u001b[0m\u001b[0m\n\u001b[1;32m    917\u001b[0m       \u001b[0mnew_tracing_count\u001b[0m \u001b[0;34m=\u001b[0m \u001b[0mself\u001b[0m\u001b[0;34m.\u001b[0m\u001b[0mexperimental_get_tracing_count\u001b[0m\u001b[0;34m(\u001b[0m\u001b[0;34m)\u001b[0m\u001b[0;34m\u001b[0m\u001b[0;34m\u001b[0m\u001b[0m\n",
            "\u001b[0;32m/usr/local/lib/python3.8/dist-packages/tensorflow/python/eager/def_function.py\u001b[0m in \u001b[0;36m_call\u001b[0;34m(self, *args, **kwds)\u001b[0m\n\u001b[1;32m    945\u001b[0m       \u001b[0;31m# In this case we have created variables on the first call, so we run the\u001b[0m\u001b[0;34m\u001b[0m\u001b[0;34m\u001b[0m\u001b[0;34m\u001b[0m\u001b[0m\n\u001b[1;32m    946\u001b[0m       \u001b[0;31m# defunned version which is guaranteed to never create variables.\u001b[0m\u001b[0;34m\u001b[0m\u001b[0;34m\u001b[0m\u001b[0;34m\u001b[0m\u001b[0m\n\u001b[0;32m--> 947\u001b[0;31m       \u001b[0;32mreturn\u001b[0m \u001b[0mself\u001b[0m\u001b[0;34m.\u001b[0m\u001b[0m_stateless_fn\u001b[0m\u001b[0;34m(\u001b[0m\u001b[0;34m*\u001b[0m\u001b[0margs\u001b[0m\u001b[0;34m,\u001b[0m \u001b[0;34m**\u001b[0m\u001b[0mkwds\u001b[0m\u001b[0;34m)\u001b[0m  \u001b[0;31m# pylint: disable=not-callable\u001b[0m\u001b[0;34m\u001b[0m\u001b[0;34m\u001b[0m\u001b[0m\n\u001b[0m\u001b[1;32m    948\u001b[0m     \u001b[0;32melif\u001b[0m \u001b[0mself\u001b[0m\u001b[0;34m.\u001b[0m\u001b[0m_stateful_fn\u001b[0m \u001b[0;32mis\u001b[0m \u001b[0;32mnot\u001b[0m \u001b[0;32mNone\u001b[0m\u001b[0;34m:\u001b[0m\u001b[0;34m\u001b[0m\u001b[0;34m\u001b[0m\u001b[0m\n\u001b[1;32m    949\u001b[0m       \u001b[0;31m# Release the lock early so that multiple threads can perform the call\u001b[0m\u001b[0;34m\u001b[0m\u001b[0;34m\u001b[0m\u001b[0;34m\u001b[0m\u001b[0m\n",
            "\u001b[0;32m/usr/local/lib/python3.8/dist-packages/tensorflow/python/eager/function.py\u001b[0m in \u001b[0;36m__call__\u001b[0;34m(self, *args, **kwargs)\u001b[0m\n\u001b[1;32m   2451\u001b[0m       (graph_function,\n\u001b[1;32m   2452\u001b[0m        filtered_flat_args) = self._maybe_define_function(args, kwargs)\n\u001b[0;32m-> 2453\u001b[0;31m     return graph_function._call_flat(\n\u001b[0m\u001b[1;32m   2454\u001b[0m         filtered_flat_args, captured_inputs=graph_function.captured_inputs)  # pylint: disable=protected-access\n\u001b[1;32m   2455\u001b[0m \u001b[0;34m\u001b[0m\u001b[0m\n",
            "\u001b[0;32m/usr/local/lib/python3.8/dist-packages/tensorflow/python/eager/function.py\u001b[0m in \u001b[0;36m_call_flat\u001b[0;34m(self, args, captured_inputs, cancellation_manager)\u001b[0m\n\u001b[1;32m   1858\u001b[0m         and executing_eagerly):\n\u001b[1;32m   1859\u001b[0m       \u001b[0;31m# No tape is watching; skip to running the function.\u001b[0m\u001b[0;34m\u001b[0m\u001b[0;34m\u001b[0m\u001b[0;34m\u001b[0m\u001b[0m\n\u001b[0;32m-> 1860\u001b[0;31m       return self._build_call_outputs(self._inference_function.call(\n\u001b[0m\u001b[1;32m   1861\u001b[0m           ctx, args, cancellation_manager=cancellation_manager))\n\u001b[1;32m   1862\u001b[0m     forward_backward = self._select_forward_and_backward_functions(\n",
            "\u001b[0;32m/usr/local/lib/python3.8/dist-packages/tensorflow/python/eager/function.py\u001b[0m in \u001b[0;36mcall\u001b[0;34m(self, ctx, args, cancellation_manager)\u001b[0m\n\u001b[1;32m    495\u001b[0m       \u001b[0;32mwith\u001b[0m \u001b[0m_InterpolateFunctionError\u001b[0m\u001b[0;34m(\u001b[0m\u001b[0mself\u001b[0m\u001b[0;34m)\u001b[0m\u001b[0;34m:\u001b[0m\u001b[0;34m\u001b[0m\u001b[0;34m\u001b[0m\u001b[0m\n\u001b[1;32m    496\u001b[0m         \u001b[0;32mif\u001b[0m \u001b[0mcancellation_manager\u001b[0m \u001b[0;32mis\u001b[0m \u001b[0;32mNone\u001b[0m\u001b[0;34m:\u001b[0m\u001b[0;34m\u001b[0m\u001b[0;34m\u001b[0m\u001b[0m\n\u001b[0;32m--> 497\u001b[0;31m           outputs = execute.execute(\n\u001b[0m\u001b[1;32m    498\u001b[0m               \u001b[0mstr\u001b[0m\u001b[0;34m(\u001b[0m\u001b[0mself\u001b[0m\u001b[0;34m.\u001b[0m\u001b[0msignature\u001b[0m\u001b[0;34m.\u001b[0m\u001b[0mname\u001b[0m\u001b[0;34m)\u001b[0m\u001b[0;34m,\u001b[0m\u001b[0;34m\u001b[0m\u001b[0;34m\u001b[0m\u001b[0m\n\u001b[1;32m    499\u001b[0m               \u001b[0mnum_outputs\u001b[0m\u001b[0;34m=\u001b[0m\u001b[0mself\u001b[0m\u001b[0;34m.\u001b[0m\u001b[0m_num_outputs\u001b[0m\u001b[0;34m,\u001b[0m\u001b[0;34m\u001b[0m\u001b[0;34m\u001b[0m\u001b[0m\n",
            "\u001b[0;32m/usr/local/lib/python3.8/dist-packages/tensorflow/python/eager/execute.py\u001b[0m in \u001b[0;36mquick_execute\u001b[0;34m(op_name, num_outputs, inputs, attrs, ctx, name)\u001b[0m\n\u001b[1;32m     52\u001b[0m   \u001b[0;32mtry\u001b[0m\u001b[0;34m:\u001b[0m\u001b[0;34m\u001b[0m\u001b[0;34m\u001b[0m\u001b[0m\n\u001b[1;32m     53\u001b[0m     \u001b[0mctx\u001b[0m\u001b[0;34m.\u001b[0m\u001b[0mensure_initialized\u001b[0m\u001b[0;34m(\u001b[0m\u001b[0;34m)\u001b[0m\u001b[0;34m\u001b[0m\u001b[0;34m\u001b[0m\u001b[0m\n\u001b[0;32m---> 54\u001b[0;31m     tensors = pywrap_tfe.TFE_Py_Execute(ctx._handle, device_name, op_name,\n\u001b[0m\u001b[1;32m     55\u001b[0m                                         inputs, attrs, num_outputs)\n\u001b[1;32m     56\u001b[0m   \u001b[0;32mexcept\u001b[0m \u001b[0mcore\u001b[0m\u001b[0;34m.\u001b[0m\u001b[0m_NotOkStatusException\u001b[0m \u001b[0;32mas\u001b[0m \u001b[0me\u001b[0m\u001b[0;34m:\u001b[0m\u001b[0;34m\u001b[0m\u001b[0;34m\u001b[0m\u001b[0m\n",
            "\u001b[0;31mKeyboardInterrupt\u001b[0m: "
          ]
        }
      ],
      "source": [
        "history = model.fit(Train_X, Train_Y, epochs=400,batch_size = 125, verbose=2, validation_data=(Vald_X,Vald_Y))"
      ]
    },
    {
      "cell_type": "code",
      "execution_count": null,
      "metadata": {
        "id": "5hvcXxBl-r3Z"
      },
      "outputs": [],
      "source": [
        "model.save('/content/drive/My Drive/Colab_Data/Fault_Detect/my_model2022_epoch400.h5')"
      ]
    },
    {
      "cell_type": "code",
      "execution_count": null,
      "metadata": {
        "id": "teS7z0vUKRxG"
      },
      "outputs": [],
      "source": [
        "del(Vald_X)\n",
        "del(Vald_Y)"
      ]
    },
    {
      "cell_type": "code",
      "execution_count": null,
      "metadata": {
        "id": "J2z0woRnI3Sx"
      },
      "outputs": [],
      "source": [
        "Test_X = numpy.load(\"/content/drive/My Drive/Colab_Data/Fault_Detect/Test_X.npy\")\n",
        "Test_Y = numpy.load(\"/content/drive/My Drive/Colab_Data/Fault_Detect/Test_Y.npy\")"
      ]
    },
    {
      "cell_type": "code",
      "execution_count": null,
      "metadata": {
        "id": "Mxv5rsUBJkbN"
      },
      "outputs": [],
      "source": [
        "from numpy import argmax\n",
        "from numpy import random\n",
        "print ('Training   ', model.metrics_names,' = ',model.evaluate(Train_X, Train_Y, verbose=0))\n",
        "#print ('Validation ', model.metrics_names,' = ',model.evaluate(Vald_X,  Vald_Y, verbose=0))\n",
        "print ('Testing    ', model.metrics_names,' = ',model.evaluate(Test_X,  Test_Y, verbose=0))\n",
        "\n",
        "print ('true (Test)     \\n',argmax(Test_Y,axis=1))\n",
        "print ('predicted (Test)\\n',argmax(model.predict(Test_X), axis=1))\n",
        "\n",
        "print ('true (Train)     \\n',argmax(Train_Y[:10],axis=1))    \n",
        "print ('predicted (Train)\\n', argmax(model.predict(Train_X[:10]), axis=1))     #make random check: Test_X*0.0090, random.shuffle(Test_X), Test_X*random.random()*0.05            \n",
        "#print (model.summary())"
      ]
    },
    {
      "cell_type": "code",
      "execution_count": null,
      "metadata": {
        "id": "brlOCcXKKn8M"
      },
      "outputs": [],
      "source": [
        "tf.keras.utils.plot_model(model, to_file='model.png', show_shapes = True, show_layer_names = True)\n",
        " \n",
        "print(history.history.keys())\n",
        "# Plot training & validation accuracy values\n",
        "plt.plot(history.history['accuracy'])\n",
        "plt.title('Model accuracy')\n",
        "plt.ylabel('Accuracy')\n",
        "plt.xlabel('Epoch')\n",
        "plt.legend(['Train', 'Test'], loc='upper left')\n",
        "plt.show()\n",
        " \n",
        "# Plot training & validation loss values\n",
        "plt.plot(history.history['loss'])\n",
        "plt.title('Model loss')\n",
        "plt.ylabel('Loss')\n",
        "plt.xlabel('Epoch')\n",
        "plt.legend(['Train', 'Test'], loc='upper left')\n",
        "plt.show()"
      ]
    },
    {
      "cell_type": "code",
      "execution_count": null,
      "metadata": {
        "id": "M7L3EA6rO0_T"
      },
      "outputs": [],
      "source": [
        "del(history)\n",
        "del(inputs)\n",
        "del(model)\n",
        "del(outputs)\n",
        "del(x)\n"
      ]
    }
  ],
  "metadata": {
    "accelerator": "GPU",
    "colab": {
      "provenance": [],
      "authorship_tag": "ABX9TyOx72+vpRRriEtr9yF0M+1r",
      "include_colab_link": true
    },
    "gpuClass": "standard",
    "kernelspec": {
      "display_name": "Python 3",
      "name": "python3"
    },
    "language_info": {
      "name": "python"
    }
  },
  "nbformat": 4,
  "nbformat_minor": 0
}