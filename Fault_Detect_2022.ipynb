{
  "cells": [
    {
      "cell_type": "markdown",
      "metadata": {
        "id": "view-in-github",
        "colab_type": "text"
      },
      "source": [
        "<a href=\"https://colab.research.google.com/github/Ashraf-Saleh/Fault-Detect/blob/Master/Fault_Detect_2022.ipynb\" target=\"_parent\"><img src=\"https://colab.research.google.com/assets/colab-badge.svg\" alt=\"Open In Colab\"/></a>"
      ]
    },
    {
      "cell_type": "code",
      "execution_count": 1,
      "metadata": {
        "id": "4fC_4ZoA4kTs"
      },
      "outputs": [],
      "source": [
        "import numpy\n",
        "import glob\n",
        "import matplotlib.pyplot as plt\n",
        "import matplotlib.image as mpimg\n",
        "import keras \n",
        "import tensorflow as tf\n",
        "from keras import layers\n",
        "from keras.models import Sequential\n",
        "from keras.layers.convolutional import Conv1D, MaxPooling1D\n",
        "from keras.layers.convolutional import Conv2D, MaxPooling2D, AveragePooling2D\n",
        "from keras.optimizers import SGD\n",
        "from keras.layers import Dense, Flatten, Dropout, Activation, BatchNormalization,Concatenate\n",
        "from keras.utils.np_utils import to_categorical\n",
        "from keras.models import model_from_json\n",
        "from tensorflow.keras.utils import plot_model\n",
        "import random, os\n",
        "import multiprocessing as mp\n",
        "from queue import Empty\n",
        "import time"
      ]
    },
    {
      "cell_type": "code",
      "execution_count": 2,
      "metadata": {
        "id": "CmNM9eax5SsQ",
        "colab": {
          "base_uri": "https://localhost:8080/"
        },
        "outputId": "bfb96b3a-5cf9-4a06-da12-8d0536d55ab2"
      },
      "outputs": [
        {
          "output_type": "stream",
          "name": "stdout",
          "text": [
            "Mounted at /content/drive\n"
          ]
        }
      ],
      "source": [
        "from google.colab import drive\n",
        "drive.mount('/content/drive')"
      ]
    },
    {
      "cell_type": "code",
      "execution_count": null,
      "metadata": {
        "id": "lpO0tJE1908T"
      },
      "outputs": [],
      "source": [
        "Data_X = numpy.load(\"/content/drive/My Drive/Colab_Data/Fault_Detect/Train_X_Sample.npy\",None,allow_pickle=True)\n",
        "Data_Y = numpy.load(\"/content/drive/My Drive/Colab_Data/Fault_Detect/Train_Y_Sample.npy\",None,allow_pickle=True)"
      ]
    },
    {
      "cell_type": "code",
      "execution_count": null,
      "metadata": {
        "colab": {
          "base_uri": "https://localhost:8080/"
        },
        "id": "he29m36L60Wn",
        "outputId": "12f25547-7252-4f6d-8ee0-a7b34e8bd07b"
      },
      "outputs": [
        {
          "name": "stdout",
          "output_type": "stream",
          "text": [
            "The shape of the Input: (22950, 5, 5000, 1)\n",
            "The shape of the Training X: (16064, 5, 5000, 1)\n",
            "The shape of the Validate X: (3443, 5, 5000, 1)\n",
            "The shape of the Testing X: (3443, 5, 5000, 1)\n",
            "\n",
            "The shape of the Output: (22950, 9)\n",
            "The shape of the Training Y: (16064, 9)\n",
            "The shape of the Validate Y: (3443, 9)\n",
            "The shape of the Testing Y: (3443, 9)\n"
          ]
        }
      ],
      "source": [
        "#Train_X = Data_X\n",
        "#Train_Y = Data_Y\n",
        "Train_X = Data_X[:int(len(Data_X)*0.7)]\n",
        "Train_Y = Data_Y[:int(len(Data_Y)*0.7)]\n",
        "Vald_X = Data_X[int(len(Data_X)*0.7):int(len(Data_X)*0.85)]\n",
        "Vald_Y = Data_Y[int(len(Data_Y)*0.7):int(len(Data_Y)*0.85)]\n",
        "Test_X = Data_X[int(len(Data_X)*0.85):]\n",
        "Test_Y = Data_Y[int(len(Data_Y)*0.85):]\n",
        "\n",
        "numpy.save(\"/content/drive/My Drive/Colab_Data/Fault_Detect/Train_X.npy\", Train_X)\n",
        "numpy.save(\"/content/drive/My Drive/Colab_Data/Fault_Detect/Train_Y.npy\", Train_Y)\n",
        "numpy.save(\"/content/drive/My Drive/Colab_Data/Fault_Detect/Vald_X.npy\", Vald_X)\n",
        "numpy.save(\"/content/drive/My Drive/Colab_Data/Fault_Detect/Vald_Y.npy\", Vald_Y)\n",
        "numpy.save(\"/content/drive/My Drive/Colab_Data/Fault_Detect/Test_X.npy\",Test_X)\n",
        "numpy.save(\"/content/drive/My Drive/Colab_Data/Fault_Detect/Test_Y.npy\", Test_Y)\n",
        " \n",
        "print(\"The shape of the Input:\", Data_X.shape)\n",
        "print(\"The shape of the Training X:\",Train_X.shape)\n",
        "print(\"The shape of the Validate X:\",Vald_X.shape)\n",
        "print(\"The shape of the Testing X:\",Test_X.shape)\n",
        "print (\"\")\n",
        "print(\"The shape of the Output:\",Data_Y.shape)\n",
        "print(\"The shape of the Training Y:\",Train_Y.shape)\n",
        "print(\"The shape of the Validate Y:\",Vald_Y.shape)\n",
        "print(\"The shape of the Testing Y:\",Test_Y.shape)\n",
        "\n",
        "#print(Data_X.shape)\n",
        "#print(Data_Y.shape)\n",
        "#print(Data_X[:10])\n",
        "#print(Data_Y[:10].astype('int'))"
      ]
    },
    {
      "cell_type": "code",
      "execution_count": null,
      "metadata": {
        "id": "iVXGPl3BF61k"
      },
      "outputs": [],
      "source": [
        "#del(Data_X)\n",
        "#del(Data_Y)\n",
        "#del(Train_X)\n",
        "#del(Train_Y)\n",
        "#del(Vald_X)\n",
        "#del(Vald_Y)\n",
        "del(Test_X)\n",
        "del(Test_Y)"
      ]
    },
    {
      "cell_type": "code",
      "execution_count": null,
      "metadata": {
        "id": "qgsJIh9ABZFD"
      },
      "outputs": [],
      "source": [
        "del(history)\n",
        "del(inputs)\n",
        "del(model)\n",
        "del(outputs)\n",
        "del(x)"
      ]
    },
    {
      "cell_type": "markdown",
      "metadata": {
        "id": "hAdr4Ee-1tbD"
      },
      "source": [
        "<h2>The main network </h2>\n",
        "\n",
        "1. one Conv Layer with filter 50 , Kerna size (2, 5), strides (1, 2), activation = relu\n",
        "2. BatchNormalization \n",
        "3. MaxPooling2D (pool_size (1, 100)\n",
        "4. Output activation =  softmax  \n",
        "5. optimizer= adam, loss= CategoricalCrossentropy\n",
        "Result 94% with epoch 50 , batch size = 120,\n",
        "\n",
        "<br>Training    ['loss', 'accuracy']  =  [0.1254553496837616, 0.9498257040977478]</br>\n",
        "</br>Testing     ['loss', 'accuracy']  =  [0.14555826783180237, 0.9456868767738342]</br>\n",
        "\n",
        "<h2> 1st trial </h3>\n",
        "\n",
        "1. one Conv Layer with filter 50, Kernal size (1, 5), strides (1, 2), activation = relu\n",
        "\n",
        "\n",
        "<br>Training    ['loss', 'accuracy']  =  [0.12389756739139557, 0.9426046013832092]</br>\n",
        "<br>Testing     ['loss', 'accuracy']  =  [0.12888164818286896, 0.9430729150772095]</br>\n",
        "\n",
        "<h2>2nd trial</h2>\n",
        "1. one NN Layer with output 64 , activation = relu\n",
        "\n",
        "<br>Training    ['loss', 'accuracy']  =  [0.06926220655441284, 0.9693725109100342]</br>\n",
        "<br>Testing     ['loss', 'accuracy']  =  [0.0782979354262352, 0.9642753601074219]</br>\n",
        "\n",
        "<h2>3rd trial</h2> \n",
        "\n",
        "1. 2nd trial\n",
        "2. one NN Layer with output 32, activation = relu\n",
        "\n",
        "<br>Training    ['loss', 'accuracy']  =  [0.09163324534893036, 0.9482071995735168]</br>\n",
        "<br>Testing     ['loss', 'accuracy']  =  [0.09710441529750824, 0.9433633685112]</br>\n",
        "\n",
        "<h2>4th trial</h2>\n",
        "\n",
        "1. 2nd trial\n",
        "2. one Conv Layer with filter 21, Kernal size (2, 20), pading = same, activation = relu\n",
        "\n",
        "<br>Training    ['loss', 'accuracy']  =  [0.077150858938694, 0.9503237009048462]</br>\n",
        "<br>Testing     ['loss', 'accuracy']  =  [0.09069331735372543, 0.9424920082092285]</br>"
      ]
    },
    {
      "cell_type": "code",
      "execution_count": 3,
      "metadata": {
        "id": "aLeOutQ5Gved"
      },
      "outputs": [],
      "source": [
        "Train_X = numpy.load(\"/content/drive/My Drive/Colab_Data/Fault_Detect/Train_X.npy\")\n",
        "Train_Y = numpy.load(\"/content/drive/My Drive/Colab_Data/Fault_Detect/Train_Y.npy\")"
      ]
    },
    {
      "cell_type": "code",
      "execution_count": 4,
      "metadata": {
        "colab": {
          "base_uri": "https://localhost:8080/",
          "height": 720
        },
        "id": "WJKNR2B87-UN",
        "outputId": "bac19fb3-b6f0-4169-eb7f-d082e26c9942"
      },
      "outputs": [
        {
          "output_type": "stream",
          "name": "stdout",
          "text": [
            "Model: \"model\"\n",
            "_________________________________________________________________\n",
            " Layer (type)                Output Shape              Param #   \n",
            "=================================================================\n",
            " data (InputLayer)           [(None, 5, 5000, 1)]      0         \n",
            "                                                                 \n",
            " conv2d (Conv2D)             (None, 4, 2498, 50)       550       \n",
            "                                                                 \n",
            " batch_normalization (BatchN  (None, 4, 2498, 50)      200       \n",
            " ormalization)                                                   \n",
            "                                                                 \n",
            " max_pooling2d (MaxPooling2D  (None, 4, 99, 50)        0         \n",
            " )                                                               \n",
            "                                                                 \n",
            " flatten (Flatten)           (None, 19800)             0         \n",
            "                                                                 \n",
            " dense (Dense)               (None, 128)               2534528   \n",
            "                                                                 \n",
            " dense_1 (Dense)             (None, 9)                 1161      \n",
            "                                                                 \n",
            "=================================================================\n",
            "Total params: 2,536,439\n",
            "Trainable params: 2,536,339\n",
            "Non-trainable params: 100\n",
            "_________________________________________________________________\n"
          ]
        },
        {
          "output_type": "execute_result",
          "data": {
            "text/plain": [
              "<matplotlib.image.AxesImage at 0x7f5b204ea7f0>"
            ]
          },
          "metadata": {},
          "execution_count": 4
        },
        {
          "output_type": "display_data",
          "data": {
            "text/plain": [
              "<Figure size 432x288 with 1 Axes>"
            ],
            "image/png": "[encoded data removed]"
          },
          "metadata": {
            "needs_background": "light"
          }
        }
      ],
      "source": [
        "inputs = keras.Input(shape = (Train_X.shape[1], Train_X.shape[2], Train_X.shape[3]), name=\"data\")\n",
        "x = layers.Conv2D(filters = 50, kernel_size = (2, 5),strides=(1, 2), activation = \"relu\") (inputs)\n",
        "#x = layers.Conv2D(filters = 50, kernel_size = (1, 5),strides=(1, 2), activation = \"relu\") (x)                 # first Trial 13/12/2022\n",
        "x = layers.BatchNormalization()(x)\n",
        "x = layers.MaxPooling2D(pool_size = (1,25)) (x)\n",
        "\n",
        "x = layers.Flatten()(x) \n",
        "x = layers.Dense(128, activation=\"relu\")(x) \n",
        "\n",
        "outputs = layers.Dense(Train_Y.shape[1], activation='softmax')(x)\n",
        "model = keras.Model(inputs, outputs, name=\"model\") \n",
        "model.compile(optimizer='adam', loss='CategoricalCrossentropy', metrics=['accuracy']) \n",
        "model.summary()\n",
        "plot_model(model, to_file='/content/drive/My Drive/Colab_Data/Fault_Detect/model.png',show_shapes=True)\n",
        "plt.imshow(mpimg.imread('/content/drive/My Drive/Colab_Data/Fault_Detect/model.png'))"
      ]
    },
    {
      "cell_type": "code",
      "execution_count": 5,
      "metadata": {
        "id": "Kz3SOLk18iyd"
      },
      "outputs": [],
      "source": [
        "Vald_X = numpy.load(\"/content/drive/My Drive/Colab_Data/Fault_Detect/Vald_X.npy\")\n",
        "Vald_Y = numpy.load(\"/content/drive/My Drive/Colab_Data/Fault_Detect/Vald_Y.npy\")"
      ]
    },
    {
      "cell_type": "code",
      "execution_count": null,
      "metadata": {
        "colab": {
          "background_save": true,
          "base_uri": "https://localhost:8080/"
        },
        "id": "ACUHgqf38p-k",
        "outputId": "a96639fc-6ced-4036-be0d-e29a10073d8c"
      },
      "outputs": [
        {
          "output_type": "stream",
          "name": "stdout",
          "text": [
            "Epoch 1/400\n",
            "129/129 - 18s - loss: 0.8480 - accuracy: 0.7455 - val_loss: 1.3123 - val_accuracy: 0.6898 - 18s/epoch - 143ms/step\n",
            "Epoch 2/400\n",
            "129/129 - 6s - loss: 0.3381 - accuracy: 0.8301 - val_loss: 1.0150 - val_accuracy: 0.6108 - 6s/epoch - 46ms/step\n",
            "Epoch 3/400\n",
            "129/129 - 6s - loss: 0.3011 - accuracy: 0.8500 - val_loss: 0.5745 - val_accuracy: 0.8551 - 6s/epoch - 44ms/step\n",
            "Epoch 4/400\n",
            "129/129 - 6s - loss: 0.2529 - accuracy: 0.8766 - val_loss: 0.3146 - val_accuracy: 0.8693 - 6s/epoch - 44ms/step\n",
            "Epoch 5/400\n",
            "129/129 - 6s - loss: 0.2352 - accuracy: 0.8866 - val_loss: 0.2810 - val_accuracy: 0.8516 - 6s/epoch - 45ms/step\n",
            "Epoch 6/400\n",
            "129/129 - 6s - loss: 0.2180 - accuracy: 0.8907 - val_loss: 0.2037 - val_accuracy: 0.9097 - 6s/epoch - 45ms/step\n",
            "Epoch 7/400\n",
            "129/129 - 6s - loss: 0.2254 - accuracy: 0.8899 - val_loss: 0.3096 - val_accuracy: 0.8638 - 6s/epoch - 45ms/step\n",
            "Epoch 8/400\n",
            "129/129 - 6s - loss: 0.2009 - accuracy: 0.9036 - val_loss: 0.2058 - val_accuracy: 0.9044 - 6s/epoch - 45ms/step\n",
            "Epoch 9/400\n",
            "129/129 - 6s - loss: 0.1920 - accuracy: 0.9058 - val_loss: 0.1685 - val_accuracy: 0.9140 - 6s/epoch - 45ms/step\n",
            "Epoch 10/400\n",
            "129/129 - 6s - loss: 0.1887 - accuracy: 0.9053 - val_loss: 0.3949 - val_accuracy: 0.8577 - 6s/epoch - 45ms/step\n",
            "Epoch 11/400\n",
            "129/129 - 6s - loss: 0.2117 - accuracy: 0.8939 - val_loss: 0.1636 - val_accuracy: 0.9210 - 6s/epoch - 45ms/step\n",
            "Epoch 12/400\n",
            "129/129 - 6s - loss: 0.1683 - accuracy: 0.9174 - val_loss: 0.1616 - val_accuracy: 0.9277 - 6s/epoch - 47ms/step\n",
            "Epoch 13/400\n"
          ]
        }
      ],
      "source": [
        "history = model.fit(Train_X, Train_Y, epochs=400,batch_size = 125, verbose=2, validation_data=(Vald_X,Vald_Y))"
      ]
    },
    {
      "cell_type": "code",
      "execution_count": null,
      "metadata": {
        "colab": {
          "background_save": true
        },
        "id": "5hvcXxBl-r3Z"
      },
      "outputs": [],
      "source": [
        "model.save('/content/drive/My Drive/Colab_Data/Fault_Detect/my_model2022_epoch400.h5')"
      ]
    },
    {
      "cell_type": "code",
      "execution_count": null,
      "metadata": {
        "colab": {
          "background_save": true
        },
        "id": "teS7z0vUKRxG"
      },
      "outputs": [],
      "source": [
        "del(Vald_X)\n",
        "del(Vald_Y)"
      ]
    },
    {
      "cell_type": "code",
      "execution_count": null,
      "metadata": {
        "colab": {
          "background_save": true
        },
        "id": "J2z0woRnI3Sx"
      },
      "outputs": [],
      "source": [
        "Test_X = numpy.load(\"/content/drive/My Drive/Colab_Data/Fault_Detect/Test_X.npy\")\n",
        "Test_Y = numpy.load(\"/content/drive/My Drive/Colab_Data/Fault_Detect/Test_Y.npy\")"
      ]
    },
    {
      "cell_type": "code",
      "execution_count": null,
      "metadata": {
        "id": "Mxv5rsUBJkbN"
      },
      "outputs": [],
      "source": [
        "from numpy import argmax\n",
        "from numpy import random\n",
        "print ('Training   ', model.metrics_names,' = ',model.evaluate(Train_X, Train_Y, verbose=0))\n",
        "#print ('Validation ', model.metrics_names,' = ',model.evaluate(Vald_X,  Vald_Y, verbose=0))\n",
        "print ('Testing    ', model.metrics_names,' = ',model.evaluate(Test_X,  Test_Y, verbose=0))\n",
        "\n",
        "print ('true (Test)     \\n',argmax(Test_Y,axis=1))\n",
        "print ('predicted (Test)\\n',argmax(model.predict(Test_X), axis=1))\n",
        "\n",
        "print ('true (Train)     \\n',argmax(Train_Y[:10],axis=1))    \n",
        "print ('predicted (Train)\\n', argmax(model.predict(Train_X[:10]), axis=1))     #make random check: Test_X*0.0090, random.shuffle(Test_X), Test_X*random.random()*0.05            \n",
        "#print (model.summary())"
      ]
    },
    {
      "cell_type": "code",
      "execution_count": null,
      "metadata": {
        "id": "brlOCcXKKn8M"
      },
      "outputs": [],
      "source": [
        "tf.keras.utils.plot_model(model, to_file='model.png', show_shapes = True, show_layer_names = True)\n",
        " \n",
        "print(history.history.keys())\n",
        "# Plot training & validation accuracy values\n",
        "plt.plot(history.history['accuracy'])\n",
        "plt.title('Model accuracy')\n",
        "plt.ylabel('Accuracy')\n",
        "plt.xlabel('Epoch')\n",
        "plt.legend(['Train', 'Test'], loc='upper left')\n",
        "plt.show()\n",
        " \n",
        "# Plot training & validation loss values\n",
        "plt.plot(history.history['loss'])\n",
        "plt.title('Model loss')\n",
        "plt.ylabel('Loss')\n",
        "plt.xlabel('Epoch')\n",
        "plt.legend(['Train', 'Test'], loc='upper left')\n",
        "plt.show()"
      ]
    },
    {
      "cell_type": "code",
      "execution_count": null,
      "metadata": {
        "id": "M7L3EA6rO0_T"
      },
      "outputs": [],
      "source": [
        "del(history)\n",
        "del(inputs)\n",
        "del(model)\n",
        "del(outputs)\n",
        "del(x)\n"
      ]
    }
  ],
  "metadata": {
    "accelerator": "GPU",
    "colab": {
      "provenance": [],
      "authorship_tag": "ABX9TyMnqrIdAWEsZ3gBXlKtgWcm",
      "include_colab_link": true
    },
    "gpuClass": "standard",
    "kernelspec": {
      "display_name": "Python 3",
      "name": "python3"
    },
    "language_info": {
      "name": "python"
    }
  },
  "nbformat": 4,
  "nbformat_minor": 0
}